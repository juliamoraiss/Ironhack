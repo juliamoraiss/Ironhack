{
 "cells": [
  {
   "cell_type": "markdown",
   "metadata": {},
   "source": [
    "# Importing Libraries"
   ]
  },
  {
   "cell_type": "code",
   "execution_count": 167,
   "metadata": {},
   "outputs": [],
   "source": [
    "import requests\n",
    "import pandas as pd\n",
    "import difflib\n",
    "import re\n",
    "from tqdm.auto import tqdm\n",
    "import workers2\n",
    "import sqlalchemy as db\n",
    "from tqdm.auto import tqdm\n",
    "from fuzzywuzzy import fuzz\n",
    "from fuzzywuzzy import process\n",
    "from unidecode import unidecode\n",
    "import spacy\n",
    "import pt_core_news_sm\n",
    "from multiprocessing import Pool"
   ]
  },
  {
   "cell_type": "markdown",
   "metadata": {},
   "source": [
    "# Reading recipes dataset"
   ]
  },
  {
   "cell_type": "code",
   "execution_count": 80,
   "metadata": {},
   "outputs": [],
   "source": [
    "recipes_df = pd.read_csv('./data/recipes_df.csv')"
   ]
  },
  {
   "cell_type": "code",
   "execution_count": 18,
   "metadata": {},
   "outputs": [
    {
     "data": {
      "text/plain": [
       "(195351, 8)"
      ]
     },
     "execution_count": 18,
     "metadata": {},
     "output_type": "execute_result"
    }
   ],
   "source": [
    "recipes_df.shape"
   ]
  },
  {
   "cell_type": "code",
   "execution_count": 19,
   "metadata": {},
   "outputs": [
    {
     "data": {
      "text/html": [
       "<div>\n",
       "<style scoped>\n",
       "    .dataframe tbody tr th:only-of-type {\n",
       "        vertical-align: middle;\n",
       "    }\n",
       "\n",
       "    .dataframe tbody tr th {\n",
       "        vertical-align: top;\n",
       "    }\n",
       "\n",
       "    .dataframe thead th {\n",
       "        text-align: right;\n",
       "    }\n",
       "</style>\n",
       "<table border=\"1\" class=\"dataframe\">\n",
       "  <thead>\n",
       "    <tr style=\"text-align: right;\">\n",
       "      <th></th>\n",
       "      <th>id_recipes_df</th>\n",
       "      <th>nome</th>\n",
       "      <th>tempo_preparo</th>\n",
       "      <th>rendimento</th>\n",
       "      <th>href</th>\n",
       "      <th>modo_preparo</th>\n",
       "      <th>categoria</th>\n",
       "      <th>ingredientes</th>\n",
       "    </tr>\n",
       "  </thead>\n",
       "  <tbody>\n",
       "    <tr>\n",
       "      <th>0</th>\n",
       "      <td>1945</td>\n",
       "      <td>Pavê de limão</td>\n",
       "      <td>15MIN</td>\n",
       "      <td>8 porções</td>\n",
       "      <td>https://www.tudogostoso.com.br/receita/166511-...</td>\n",
       "      <td>Bata no liquidificador o leite condensado e o...</td>\n",
       "      <td>Doces e sobremesas</td>\n",
       "      <td>['1 lata de leite condensado', '1 lata de crem...</td>\n",
       "    </tr>\n",
       "    <tr>\n",
       "      <th>1</th>\n",
       "      <td>1946</td>\n",
       "      <td>Pudim de goiabada</td>\n",
       "      <td>40MIN</td>\n",
       "      <td>4 porções</td>\n",
       "      <td>https://www.tudogostoso.com.br/receita/306360-...</td>\n",
       "      <td>Forre todo o interior de uma tigela refratári...</td>\n",
       "      <td>Doces e sobremesas</td>\n",
       "      <td>['500 g de goiabada', '500 g de requeijão', '3...</td>\n",
       "    </tr>\n",
       "    <tr>\n",
       "      <th>2</th>\n",
       "      <td>1947</td>\n",
       "      <td>Petit gateau</td>\n",
       "      <td>20MIN</td>\n",
       "      <td>1 porção</td>\n",
       "      <td>https://www.tudogostoso.com.br/receita/191668-...</td>\n",
       "      <td>Misture todos os ingredientes e deixe a massa...</td>\n",
       "      <td>Bolos e tortas doces</td>\n",
       "      <td>['1 ovo', '1 colher de manteiga', '2 colheres ...</td>\n",
       "    </tr>\n",
       "    <tr>\n",
       "      <th>3</th>\n",
       "      <td>1948</td>\n",
       "      <td>Bolo de pudim</td>\n",
       "      <td>90MIN</td>\n",
       "      <td>8 porções</td>\n",
       "      <td>https://www.tudogostoso.com.br/receita/178924-...</td>\n",
       "      <td>Bata todos os ingredientes no liquidificador ...</td>\n",
       "      <td>Doces e sobremesas</td>\n",
       "      <td>['3 ovos', '1 lata de leite condensado', '2 la...</td>\n",
       "    </tr>\n",
       "    <tr>\n",
       "      <th>4</th>\n",
       "      <td>1949</td>\n",
       "      <td>Pão de queijo fit</td>\n",
       "      <td>20MIN</td>\n",
       "      <td>6 porções</td>\n",
       "      <td>https://www.tudogostoso.com.br/receita/306341-...</td>\n",
       "      <td>Misture todos ingredientes num bowl até que f...</td>\n",
       "      <td>Alimentação Saudável</td>\n",
       "      <td>['1 xícara de polvilho azedo', '1 xícarade que...</td>\n",
       "    </tr>\n",
       "  </tbody>\n",
       "</table>\n",
       "</div>"
      ],
      "text/plain": [
       "   id_recipes_df               nome tempo_preparo rendimento  \\\n",
       "0           1945      Pavê de limão         15MIN  8 porções   \n",
       "1           1946  Pudim de goiabada         40MIN  4 porções   \n",
       "2           1947       Petit gateau         20MIN   1 porção   \n",
       "3           1948      Bolo de pudim         90MIN  8 porções   \n",
       "4           1949  Pão de queijo fit         20MIN  6 porções   \n",
       "\n",
       "                                                href  \\\n",
       "0  https://www.tudogostoso.com.br/receita/166511-...   \n",
       "1  https://www.tudogostoso.com.br/receita/306360-...   \n",
       "2  https://www.tudogostoso.com.br/receita/191668-...   \n",
       "3  https://www.tudogostoso.com.br/receita/178924-...   \n",
       "4  https://www.tudogostoso.com.br/receita/306341-...   \n",
       "\n",
       "                                        modo_preparo             categoria  \\\n",
       "0   Bata no liquidificador o leite condensado e o...    Doces e sobremesas   \n",
       "1   Forre todo o interior de uma tigela refratári...    Doces e sobremesas   \n",
       "2   Misture todos os ingredientes e deixe a massa...  Bolos e tortas doces   \n",
       "3   Bata todos os ingredientes no liquidificador ...    Doces e sobremesas   \n",
       "4   Misture todos ingredientes num bowl até que f...  Alimentação Saudável   \n",
       "\n",
       "                                        ingredientes  \n",
       "0  ['1 lata de leite condensado', '1 lata de crem...  \n",
       "1  ['500 g de goiabada', '500 g de requeijão', '3...  \n",
       "2  ['1 ovo', '1 colher de manteiga', '2 colheres ...  \n",
       "3  ['3 ovos', '1 lata de leite condensado', '2 la...  \n",
       "4  ['1 xícara de polvilho azedo', '1 xícarade que...  "
      ]
     },
     "execution_count": 19,
     "metadata": {},
     "output_type": "execute_result"
    }
   ],
   "source": [
    "recipes_df.head()"
   ]
  },
  {
   "cell_type": "markdown",
   "metadata": {},
   "source": [
    "## Listing all food categories"
   ]
  },
  {
   "cell_type": "code",
   "execution_count": 20,
   "metadata": {},
   "outputs": [
    {
     "data": {
      "text/plain": [
       "array(['Doces e sobremesas', 'Bolos e tortas doces',\n",
       "       'Alimentação Saudável', 'Massas',\n",
       "       'Saladas, molhos e acompanhamentos', 'Peixes e frutos do mar',\n",
       "       'Sopas', 'Lanches', 'Prato Único', 'Aves', 'Carnes', 'Bebidas',\n",
       "       'Peixes', 'Light'], dtype=object)"
      ]
     },
     "execution_count": 20,
     "metadata": {},
     "output_type": "execute_result"
    }
   ],
   "source": [
    "recipes_df['categoria'].unique()"
   ]
  },
  {
   "cell_type": "markdown",
   "metadata": {},
   "source": [
    "# Creating a unique list of ingredients"
   ]
  },
  {
   "cell_type": "markdown",
   "metadata": {},
   "source": [
    "Cleaning the ingredient"
   ]
  },
  {
   "cell_type": "code",
   "execution_count": 81,
   "metadata": {},
   "outputs": [],
   "source": [
    "recipes_df['ingredientes'] = recipes_df['ingredientes'].apply(lambda x : unidecode(x))"
   ]
  },
  {
   "cell_type": "code",
   "execution_count": 82,
   "metadata": {},
   "outputs": [],
   "source": [
    "recipes_df['ingredientes'] = recipes_df['ingredientes'].apply(lambda x : x.replace('[','').replace(']','').replace(\"'\",'').split(', '))"
   ]
  },
  {
   "cell_type": "markdown",
   "metadata": {},
   "source": [
    "Removing all words that are between parentheses"
   ]
  },
  {
   "cell_type": "code",
   "execution_count": 83,
   "metadata": {},
   "outputs": [],
   "source": [
    "pattern = '\\(.+\\)'"
   ]
  },
  {
   "cell_type": "code",
   "execution_count": 84,
   "metadata": {},
   "outputs": [],
   "source": [
    "recipes_df['ingredientes'] = recipes_df['ingredientes'].apply(lambda x: [re.sub(pattern, '', ingredients) for ingredients in x])"
   ]
  },
  {
   "cell_type": "markdown",
   "metadata": {},
   "source": [
    "Using spacy library"
   ]
  },
  {
   "cell_type": "code",
   "execution_count": 25,
   "metadata": {},
   "outputs": [],
   "source": [
    "nlp = pt_core_news_sm.load()"
   ]
  },
  {
   "cell_type": "markdown",
   "metadata": {},
   "source": [
    "Adding some words in STOP_WORDS list to remove them from the ingredients"
   ]
  },
  {
   "cell_type": "code",
   "execution_count": 26,
   "metadata": {},
   "outputs": [],
   "source": [
    "customize_stop_words = [\n",
    "    'lata', 'copo', 'colher', 'pacote', 'caixa', 'caixas', 'caixinha', 'caixinhas', 'ml', 'g', 'gramas', 'l',\n",
    "    'litros', 'ml', 'colheres', 'vidrinho', 'xicaras', 'xicara', 'fatias', 'pitada', 'xicarade', 'bandeja',\n",
    "    'bandejas', 'kg', 'cubo', 'cubos', 'barra', 'rasas', 'rasa', 'raso', 'rasos', 'cheia', 'cheias', 'cheio',\n",
    "    'cheios', 'litro', 'medio', 'grande', 'pequeno', 'dentes', 'pequena', 'pequenas', 'pequenos', 'media',\n",
    "    'medias', 'medios', 'folha', 'folhas', 'medida', 'inteiro', 'inteiros', 'inteiras', 'inteira', 'e', 'saches',\n",
    "    'morna', 'morno' 'cortada', 'cortadas', 'cortado', 'cortados', 'maco', 'tira', 'tirinha', 'tiras', 'tirinhas',\n",
    "    'sache', 'picada', 'picadas', 'picado', 'picados', 'picadinho', 'picadinhos', 'picadinha', 'picadinhas', 'ralado',\n",
    "    'ralada', 'ralados', 'raladas', 'raladinho', 'raladinhos', 'raladinha', 'raladinhas', 'misturada', 'misturado',\n",
    "    'cozido', 'cozidos', 'cozida', 'cozidas', 'a', 'gosto', 'tablete', 'tabletes', 'pacotes', 'pele', 'ate', 'o',\n",
    "    'copos', 'bolo', 'fina', 'flocos', 'grossas', 'grossa', 'grosso', 'grossos', 'casca', 'cascas', 'descascada',\n",
    "    'descascadas', 'descascado', 'descascados', 'cascas', 'aproximadamente', 'sal', 'tempero', 'quente', 'sabor',\n",
    "    'temperos', 'sopa', 'desfiado', 'desfiados', 'desfiada', 'desfiadas', 'cha', 'opcional', 'saquinho', 'saco',\n",
    "    'preferencia', 'usei', 'madura', 'maduras', 'maduro', 'maduros', 'amassada', 'amassadas', 'amassado', 'amassados',\n",
    "    'latas', 'rasgadas', 'rasgada', 'temperada', 'temperadas', 'temperado', 'temperados', 'vidro', 'vidrinho', 'vidros',\n",
    "    'vidrinhos', 'panela', 'escolheres', 'pote', 'potes', 'potinho', 'potinhos', 'americano', 'prato', 'refratario',\n",
    "    'forno', 'preaquecido', 'pronta', 'banda', 'tradicional', 'fio', 'unidade', 'unidades', 'dissolvida', 'sobra',\n",
    "    'sobras', 'servir', 'separado', 'separados', 'separada', 'separadas', 'semente', 'sementes', 'cubinho',\n",
    "    'cubinhos', 'ja', 'refogada', 'refogar', 'refogadas', 'refogados', 'refogado', 'frio', 'fria', 'congelada',\n",
    "    'congeladas', 'congelado', 'congelados', 'fresca', 'frescas', 'fresco', 'frescos', 'diluir', 'escorrido',\n",
    "    'escorrida', 'envelope', 'envelopes', 'forma', 'formas', 'forminhas', 'redondo', 'redondos', 'refinado',\n",
    "    'ramo', 'ramos', 'raminhos', 'desidratada', 'desidratadas', 'desidratado', 'desidratados', 'cozinho', 'dente',\n",
    "    'pressao', 'hora', 'gelado', 'gelada', 'gelados', 'geladas', 'geladinhos', 'geladinhas', 'fica', 'criterio',\n",
    "    'industrializado', 'industrializada', 'industrializados', 'industrializadas', 'quantidade', 'rodelas','laminas',\n",
    "    'maos', 'diferentes', 'pedaco', 'pedacos', 'grosseiros', 'suficiente', 'cobrir'\n",
    "]\n",
    "\n",
    "for w in customize_stop_words:\n",
    "    nlp.vocab[w].is_stop = True"
   ]
  },
  {
   "cell_type": "markdown",
   "metadata": {},
   "source": [
    "Creating a function to clean the ingredients"
   ]
  },
  {
   "cell_type": "code",
   "execution_count": 107,
   "metadata": {},
   "outputs": [],
   "source": [
    "def clean_ingredient(ingredient:str):\n",
    "    '''\n",
    "    The function receives an ingredient and returns a clean string of that ingredient.\n",
    "    \n",
    "    Example: input > '1 lata de leite condensado'\n",
    "             output > 'leite condensado'\n",
    "    '''\n",
    "    \n",
    "    ingredient = ingredient.lower()\n",
    "    doc = nlp(ingredient)\n",
    "    tokens = []\n",
    "    for token in doc:\n",
    "        if token.is_stop == False and token.is_punct == False and token.is_alpha == True:\n",
    "            if token.is_digit == False:\n",
    "                tokens.append(token.text)\n",
    "    ingredient = ' '.join(tokens)\n",
    "    if len(ingredient) > 0:\n",
    "        if ingredient[-1] == 's':\n",
    "            ingredient = ingredient[:-1]      ## this prevents words in plural\n",
    "            \n",
    "    ingredient = re.sub('gemas|claras|ovos|gema|clara', 'ovo', ingredient)\n",
    "    ingredient = re.sub('fermento po', 'fermento', ingredient)\n",
    "    ingredient = re.sub('azeite oliva', 'azeite', ingredient)\n",
    "    ingredient = re.sub('queijo mussarela', 'mussarela', ingredient)\n",
    "    ingredient = re.sub('maisena', 'maizena', ingredient)\n",
    "    \n",
    "    return ingredient"
   ]
  },
  {
   "cell_type": "markdown",
   "metadata": {},
   "source": [
    "Creating a list with all cleaned ingredients"
   ]
  },
  {
   "cell_type": "code",
   "execution_count": null,
   "metadata": {},
   "outputs": [],
   "source": [
    "lst_ing = []\n",
    "for row in tqdm(recipes_df['ingredientes']):\n",
    "    if len(row) > 0:\n",
    "        for ing in row:\n",
    "            ingredient = clean_ingredient(ing)\n",
    "            lst_ing.append(ingredient)"
   ]
  },
  {
   "cell_type": "markdown",
   "metadata": {},
   "source": [
    "Now, I'm counting how many times each ingredient appears in the list and deleting the duplicated ones"
   ]
  },
  {
   "cell_type": "code",
   "execution_count": 29,
   "metadata": {},
   "outputs": [],
   "source": [
    "df_ing = pd.DataFrame(lst_ing, columns=['ingrediente'])\n",
    "count_ingredients_df = pd.DataFrame(df_ing['ingrediente'].value_counts()).reset_index()\n",
    "count_ingredients_df.columns = ['ingrediente', 'quantidade']"
   ]
  },
  {
   "cell_type": "code",
   "execution_count": null,
   "metadata": {},
   "outputs": [],
   "source": [
    "count_ingredients_df = count_ingredients_df.drop_duplicates()"
   ]
  },
  {
   "cell_type": "code",
   "execution_count": 32,
   "metadata": {},
   "outputs": [],
   "source": [
    "# remove unique ingredient that only appear 2 times or less\n",
    "\n",
    "mask = count_ingredients_df['quantidade'] > 2\n",
    "count_ingredients_df = count_ingredients_df.loc[mask, :]"
   ]
  },
  {
   "cell_type": "code",
   "execution_count": 35,
   "metadata": {},
   "outputs": [],
   "source": [
    "# Removing ingredients that has only 2, or less, letters\n",
    "\n",
    "for ingrediente in count_ingredients_df['ingrediente']:\n",
    "    if len(ingrediente) < 2:\n",
    "        count_ingredients_df.drop(count_ingredients_df.index[count_ingredients_df['ingrediente'] == f'{ingrediente}'], inplace=True)"
   ]
  },
  {
   "cell_type": "markdown",
   "metadata": {},
   "source": [
    "# Send dataframe to database"
   ]
  },
  {
   "cell_type": "markdown",
   "metadata": {},
   "source": [
    "The Dataframe of unique ingredients is now being sent to the database as table 'ingredient'"
   ]
  },
  {
   "cell_type": "code",
   "execution_count": 123,
   "metadata": {},
   "outputs": [],
   "source": [
    "engine = db.create_engine(f'{DATABASE_URL}')\n",
    "conn = engine.connect()\n",
    "ingredient_df[['ingrediente']].to_sql('ingredient', con=conn)"
   ]
  },
  {
   "cell_type": "markdown",
   "metadata": {},
   "source": [
    "# Create recipe_ingredient table in database"
   ]
  },
  {
   "cell_type": "markdown",
   "metadata": {},
   "source": [
    "I'm creating a table with the relation between the recipes and ingredients. This will facilitate the search for the recipes based on the ingredients"
   ]
  },
  {
   "cell_type": "code",
   "execution_count": 149,
   "metadata": {},
   "outputs": [],
   "source": [
    "engine = db.create_engine(f'{DATABASE_URL}')\n",
    "conn = engine.connect()\n",
    "ingredient_df = pd.read_sql('SELECT /*+ MAX_EXECUTION_TIME(1000000) */ * from recipes.ingredient', con=conn)"
   ]
  },
  {
   "cell_type": "code",
   "execution_count": 156,
   "metadata": {},
   "outputs": [
    {
     "data": {
      "text/html": [
       "<div>\n",
       "<style scoped>\n",
       "    .dataframe tbody tr th:only-of-type {\n",
       "        vertical-align: middle;\n",
       "    }\n",
       "\n",
       "    .dataframe tbody tr th {\n",
       "        vertical-align: top;\n",
       "    }\n",
       "\n",
       "    .dataframe thead th {\n",
       "        text-align: right;\n",
       "    }\n",
       "</style>\n",
       "<table border=\"1\" class=\"dataframe\">\n",
       "  <thead>\n",
       "    <tr style=\"text-align: right;\">\n",
       "      <th></th>\n",
       "      <th>id_ingrediente</th>\n",
       "      <th>ingrediente</th>\n",
       "    </tr>\n",
       "  </thead>\n",
       "  <tbody>\n",
       "    <tr>\n",
       "      <th>0</th>\n",
       "      <td>1</td>\n",
       "      <td>ovo</td>\n",
       "    </tr>\n",
       "    <tr>\n",
       "      <th>1</th>\n",
       "      <td>2</td>\n",
       "      <td>acucar</td>\n",
       "    </tr>\n",
       "    <tr>\n",
       "      <th>2</th>\n",
       "      <td>3</td>\n",
       "      <td>leite</td>\n",
       "    </tr>\n",
       "    <tr>\n",
       "      <th>3</th>\n",
       "      <td>4</td>\n",
       "      <td>cebola</td>\n",
       "    </tr>\n",
       "    <tr>\n",
       "      <th>4</th>\n",
       "      <td>5</td>\n",
       "      <td>farinha trigo</td>\n",
       "    </tr>\n",
       "  </tbody>\n",
       "</table>\n",
       "</div>"
      ],
      "text/plain": [
       "   id_ingrediente    ingrediente\n",
       "0               1            ovo\n",
       "1               2         acucar\n",
       "2               3          leite\n",
       "3               4         cebola\n",
       "4               5  farinha trigo"
      ]
     },
     "execution_count": 156,
     "metadata": {},
     "output_type": "execute_result"
    }
   ],
   "source": [
    "ingredient_df.head()"
   ]
  },
  {
   "cell_type": "code",
   "execution_count": 152,
   "metadata": {},
   "outputs": [],
   "source": [
    "def get_id_ingredient(name_ingredient):\n",
    "    '''\n",
    "    The function returns the ingredient id in the database given the name of the ingredient\n",
    "    '''\n",
    "    try:\n",
    "        results = results = int(ingredient_df[ingredient_df['ingrediente'] == f'{name_ingredient}']['id_ingrediente'].values[0])\n",
    "    except:\n",
    "        results = []\n",
    "    \n",
    "    return results"
   ]
  },
  {
   "cell_type": "markdown",
   "metadata": {},
   "source": [
    "## Create the dataframe of the relation recipe/ingredient"
   ]
  },
  {
   "cell_type": "code",
   "execution_count": 177,
   "metadata": {},
   "outputs": [],
   "source": [
    "recipe_ingredient = pd.DataFrame(columns=['id_recipe', 'id_ingredient'])"
   ]
  },
  {
   "cell_type": "code",
   "execution_count": 178,
   "metadata": {
    "scrolled": true
   },
   "outputs": [
    {
     "data": {
      "application/vnd.jupyter.widget-view+json": {
       "model_id": "d0d715d785f1477c9ab8384066a767d9",
       "version_major": 2,
       "version_minor": 0
      },
      "text/plain": [
       "HBox(children=(FloatProgress(value=0.0, max=65351.0), HTML(value='')))"
      ]
     },
     "metadata": {},
     "output_type": "display_data"
    },
    {
     "name": "stdout",
     "output_type": "stream",
     "text": [
      "\n"
     ]
    }
   ],
   "source": [
    "for i in tqdm(range(recipes_df[['id_recipes_df', 'ingredientes']][130000:].shape[0])):\n",
    "    id_recipe = (recipes_df[['id_recipes_df', 'ingredientes']][130000:].iloc[i, :][0])\n",
    "    list_ingredient = (recipes_df[['id_recipes_df', 'ingredientes']][130000:].iloc[i, :][1])\n",
    "    for ingrediente in list_ingredient:\n",
    "        ing = clean_ingredient(ingrediente)\n",
    "        id_ingredient = get_id_ingredient(ing)\n",
    "        if type(id_ingredient) == int:\n",
    "            recipe_ingredient = recipe_ingredient.append({'id_recipe' : id_recipe , 'id_ingredient' : id_ingredient} , ignore_index=True)\n",
    "        else:\n",
    "            for unique_ingredient in ingredient_df['ingrediente']:\n",
    "                partial_ratio = fuzz.partial_ratio(ingrediente, unique_ingredient)\n",
    "                if partial_ratio > 80:\n",
    "                    id_ingredient = get_id_ingredient(unique_ingredient)\n",
    "                    recipe_ingredient = recipe_ingredient.append({'id_recipe' : id_recipe , 'id_ingredient' : id_ingredient} , ignore_index=True)\n",
    "                    break"
   ]
  },
  {
   "cell_type": "code",
   "execution_count": 179,
   "metadata": {},
   "outputs": [
    {
     "data": {
      "text/html": [
       "<div>\n",
       "<style scoped>\n",
       "    .dataframe tbody tr th:only-of-type {\n",
       "        vertical-align: middle;\n",
       "    }\n",
       "\n",
       "    .dataframe tbody tr th {\n",
       "        vertical-align: top;\n",
       "    }\n",
       "\n",
       "    .dataframe thead th {\n",
       "        text-align: right;\n",
       "    }\n",
       "</style>\n",
       "<table border=\"1\" class=\"dataframe\">\n",
       "  <thead>\n",
       "    <tr style=\"text-align: right;\">\n",
       "      <th></th>\n",
       "      <th>id_recipe</th>\n",
       "      <th>id_ingredient</th>\n",
       "    </tr>\n",
       "  </thead>\n",
       "  <tbody>\n",
       "    <tr>\n",
       "      <th>0</th>\n",
       "      <td>142808</td>\n",
       "      <td>71</td>\n",
       "    </tr>\n",
       "    <tr>\n",
       "      <th>1</th>\n",
       "      <td>142808</td>\n",
       "      <td>14625</td>\n",
       "    </tr>\n",
       "    <tr>\n",
       "      <th>2</th>\n",
       "      <td>142808</td>\n",
       "      <td>1139</td>\n",
       "    </tr>\n",
       "    <tr>\n",
       "      <th>3</th>\n",
       "      <td>142808</td>\n",
       "      <td>8</td>\n",
       "    </tr>\n",
       "    <tr>\n",
       "      <th>4</th>\n",
       "      <td>142808</td>\n",
       "      <td>2</td>\n",
       "    </tr>\n",
       "    <tr>\n",
       "      <th>...</th>\n",
       "      <td>...</td>\n",
       "      <td>...</td>\n",
       "    </tr>\n",
       "    <tr>\n",
       "      <th>535173</th>\n",
       "      <td>227439</td>\n",
       "      <td>3905</td>\n",
       "    </tr>\n",
       "    <tr>\n",
       "      <th>535174</th>\n",
       "      <td>227439</td>\n",
       "      <td>49</td>\n",
       "    </tr>\n",
       "    <tr>\n",
       "      <th>535175</th>\n",
       "      <td>227439</td>\n",
       "      <td>3</td>\n",
       "    </tr>\n",
       "    <tr>\n",
       "      <th>535176</th>\n",
       "      <td>227439</td>\n",
       "      <td>13</td>\n",
       "    </tr>\n",
       "    <tr>\n",
       "      <th>535177</th>\n",
       "      <td>227439</td>\n",
       "      <td>661</td>\n",
       "    </tr>\n",
       "  </tbody>\n",
       "</table>\n",
       "<p>535178 rows × 2 columns</p>\n",
       "</div>"
      ],
      "text/plain": [
       "       id_recipe id_ingredient\n",
       "0         142808            71\n",
       "1         142808         14625\n",
       "2         142808          1139\n",
       "3         142808             8\n",
       "4         142808             2\n",
       "...          ...           ...\n",
       "535173    227439          3905\n",
       "535174    227439            49\n",
       "535175    227439             3\n",
       "535176    227439            13\n",
       "535177    227439           661\n",
       "\n",
       "[535178 rows x 2 columns]"
      ]
     },
     "execution_count": 179,
     "metadata": {},
     "output_type": "execute_result"
    }
   ],
   "source": [
    "recipe_ingredient"
   ]
  },
  {
   "cell_type": "markdown",
   "metadata": {},
   "source": [
    "# Drop duplicates"
   ]
  },
  {
   "cell_type": "code",
   "execution_count": 183,
   "metadata": {},
   "outputs": [
    {
     "data": {
      "text/plain": [
       "17460"
      ]
     },
     "execution_count": 183,
     "metadata": {},
     "output_type": "execute_result"
    }
   ],
   "source": [
    "recipe_ingredient.duplicated().sum()"
   ]
  },
  {
   "cell_type": "code",
   "execution_count": null,
   "metadata": {},
   "outputs": [],
   "source": [
    "recipe_ingredient = recipe_ingredient.drop_duplicated()"
   ]
  },
  {
   "cell_type": "markdown",
   "metadata": {},
   "source": [
    "# Send DataFrame to Database"
   ]
  },
  {
   "cell_type": "code",
   "execution_count": 211,
   "metadata": {},
   "outputs": [],
   "source": [
    "engine = db.create_engine(f'{DATABASE_URL}')\n",
    "conn = engine.connect()"
   ]
  },
  {
   "cell_type": "code",
   "execution_count": 212,
   "metadata": {},
   "outputs": [],
   "source": [
    "qty_lines = recipe_ingredient.shape[0]\n",
    "\n",
    "while qty_lines > 0:\n",
    "    df_first_4000 = recipe_ingredient.iloc[:4000,:]\n",
    "    conn = engine.connect()\n",
    "    df_first_4000.to_sql('recipe_ingredient', con=conn, if_exists='append', index = False)\n",
    "    conn.close()\n",
    "    recipe_ingredient = recipe_ingredient.drop(index=list(df_first_4000.index))\n",
    "    qty_lines = recipe_ingredient.shape[0]"
   ]
  },
  {
   "cell_type": "code",
   "execution_count": 80,
   "metadata": {},
   "outputs": [],
   "source": [
    "recipe_ingredient = pd.read_csv('./data/recipe_ingredient.csv')"
   ]
  },
  {
   "cell_type": "code",
   "execution_count": 96,
   "metadata": {},
   "outputs": [],
   "source": [
    "recipe_ingredient.to_csv('./data/recipe_ingredient.csv', index=False)"
   ]
  },
  {
   "cell_type": "code",
   "execution_count": 210,
   "metadata": {},
   "outputs": [],
   "source": [
    "engine = db.create_engine(f'{DATABASE_URL}')\n",
    "conn = engine.connect()\n",
    "recipe_ingredient = pd.read_sql('SELECT /*+ MAX_EXECUTION_TIME(1000000) */ * from recipes.recipe_ingredient', con=conn)"
   ]
  },
  {
   "cell_type": "code",
   "execution_count": 204,
   "metadata": {},
   "outputs": [
    {
     "data": {
      "text/html": [
       "<div>\n",
       "<style scoped>\n",
       "    .dataframe tbody tr th:only-of-type {\n",
       "        vertical-align: middle;\n",
       "    }\n",
       "\n",
       "    .dataframe tbody tr th {\n",
       "        vertical-align: top;\n",
       "    }\n",
       "\n",
       "    .dataframe thead th {\n",
       "        text-align: right;\n",
       "    }\n",
       "</style>\n",
       "<table border=\"1\" class=\"dataframe\">\n",
       "  <thead>\n",
       "    <tr style=\"text-align: right;\">\n",
       "      <th></th>\n",
       "      <th>id_recipe_ingredient</th>\n",
       "      <th>id_recipe</th>\n",
       "      <th>id_ingredient</th>\n",
       "    </tr>\n",
       "  </thead>\n",
       "  <tbody>\n",
       "    <tr>\n",
       "      <th>0</th>\n",
       "      <td>2518445</td>\n",
       "      <td>1945</td>\n",
       "      <td>7</td>\n",
       "    </tr>\n",
       "    <tr>\n",
       "      <th>1</th>\n",
       "      <td>2518446</td>\n",
       "      <td>1945</td>\n",
       "      <td>6</td>\n",
       "    </tr>\n",
       "    <tr>\n",
       "      <th>2</th>\n",
       "      <td>2518447</td>\n",
       "      <td>1945</td>\n",
       "      <td>3278</td>\n",
       "    </tr>\n",
       "    <tr>\n",
       "      <th>3</th>\n",
       "      <td>2518448</td>\n",
       "      <td>1945</td>\n",
       "      <td>857</td>\n",
       "    </tr>\n",
       "    <tr>\n",
       "      <th>4</th>\n",
       "      <td>2518449</td>\n",
       "      <td>1945</td>\n",
       "      <td>1267</td>\n",
       "    </tr>\n",
       "  </tbody>\n",
       "</table>\n",
       "</div>"
      ],
      "text/plain": [
       "   id_recipe_ingredient  id_recipe  id_ingredient\n",
       "0               2518445       1945              7\n",
       "1               2518446       1945              6\n",
       "2               2518447       1945           3278\n",
       "3               2518448       1945            857\n",
       "4               2518449       1945           1267"
      ]
     },
     "execution_count": 204,
     "metadata": {},
     "output_type": "execute_result"
    }
   ],
   "source": [
    "recipe_ingredient.head()"
   ]
  },
  {
   "cell_type": "code",
   "execution_count": null,
   "metadata": {},
   "outputs": [],
   "source": []
  }
 ],
 "metadata": {
  "kernelspec": {
   "display_name": "Python 3",
   "language": "python",
   "name": "python3"
  },
  "language_info": {
   "codemirror_mode": {
    "name": "ipython",
    "version": 3
   },
   "file_extension": ".py",
   "mimetype": "text/x-python",
   "name": "python",
   "nbconvert_exporter": "python",
   "pygments_lexer": "ipython3",
   "version": "3.7.6"
  },
  "toc": {
   "base_numbering": 1,
   "nav_menu": {},
   "number_sections": true,
   "sideBar": true,
   "skip_h1_title": false,
   "title_cell": "Table of Contents",
   "title_sidebar": "Contents",
   "toc_cell": false,
   "toc_position": {},
   "toc_section_display": true,
   "toc_window_display": false
  },
  "varInspector": {
   "cols": {
    "lenName": 16,
    "lenType": 16,
    "lenVar": 40
   },
   "kernels_config": {
    "python": {
     "delete_cmd_postfix": "",
     "delete_cmd_prefix": "del ",
     "library": "var_list.py",
     "varRefreshCmd": "print(var_dic_list())"
    },
    "r": {
     "delete_cmd_postfix": ") ",
     "delete_cmd_prefix": "rm(",
     "library": "var_list.r",
     "varRefreshCmd": "cat(var_dic_list()) "
    }
   },
   "types_to_exclude": [
    "module",
    "function",
    "builtin_function_or_method",
    "instance",
    "_Feature"
   ],
   "window_display": false
  }
 },
 "nbformat": 4,
 "nbformat_minor": 4
}
