{
 "cells": [
  {
   "cell_type": "markdown",
   "metadata": {},
   "source": [
    "# Import Libraries "
   ]
  },
  {
   "cell_type": "code",
   "execution_count": 2,
   "metadata": {},
   "outputs": [],
   "source": [
    "import requests\n",
    "import pandas as pd\n",
    "from bs4 import BeautifulSoup\n",
    "import difflib\n",
    "import re\n",
    "from tqdm.auto import tqdm\n",
    "from multiprocessing import Pool\n",
    "import workers\n",
    "import sqlalchemy as db"
   ]
  },
  {
   "cell_type": "markdown",
   "metadata": {},
   "source": [
    "# Webscrapping"
   ]
  },
  {
   "cell_type": "markdown",
   "metadata": {},
   "source": [
    "I'm using tudogostoso's webpage to do the data extraction."
   ]
  },
  {
   "cell_type": "code",
   "execution_count": 2,
   "metadata": {},
   "outputs": [],
   "source": [
    "url = 'https://www.tudogostoso.com.br/receitas'\n",
    "response = requests.get(url)\n",
    "html = response.content\n",
    "soup = BeautifulSoup(html)"
   ]
  },
  {
   "cell_type": "markdown",
   "metadata": {},
   "source": [
    "## Get href from all recipes"
   ]
  },
  {
   "cell_type": "markdown",
   "metadata": {},
   "source": [
    "First, I created a .py file named \"workers\" with the functions that I'm going to use to get all href's and then I used multiprocessing to do it faster, creating a list of all href that I need."
   ]
  },
  {
   "cell_type": "code",
   "execution_count": null,
   "metadata": {},
   "outputs": [],
   "source": [
    "#Last page with recipes of the website\n",
    "\n",
    "last_page = soup.select('.pagination .row a:last-of-type')[0]['href']\n",
    "last_page = int(re.findall('page=\\d*', last_page)[0].split('=')[-1])"
   ]
  },
  {
   "cell_type": "code",
   "execution_count": 4,
   "metadata": {},
   "outputs": [],
   "source": [
    "if __name__ ==  '__main__': \n",
    "    recipes_href = []\n",
    "    num_processors = 4\n",
    "    p=Pool(processes = num_processors)\n",
    "    output = p.map(workers.href,[i for i in range(last_page)])\n",
    "    \n",
    "for href in output:\n",
    "    recipes_href += href"
   ]
  },
  {
   "cell_type": "markdown",
   "metadata": {},
   "source": [
    "After the list is created, I'm sending it to a csv file"
   ]
  },
  {
   "cell_type": "code",
   "execution_count": null,
   "metadata": {},
   "outputs": [],
   "source": [
    "href_df = pd.to_csv('./data/href_df.csv', index=False)"
   ]
  },
  {
   "cell_type": "markdown",
   "metadata": {},
   "source": [
    "Read the href csv file"
   ]
  },
  {
   "cell_type": "code",
   "execution_count": 9,
   "metadata": {},
   "outputs": [],
   "source": [
    "href_df = pd.read_csv('./data/href_df.csv')"
   ]
  },
  {
   "cell_type": "markdown",
   "metadata": {},
   "source": [
    "## Send the href dataframe to the database"
   ]
  },
  {
   "cell_type": "markdown",
   "metadata": {},
   "source": [
    "Creating the connection"
   ]
  },
  {
   "cell_type": "code",
   "execution_count": 11,
   "metadata": {},
   "outputs": [],
   "source": [
    "engine = db.create_engine(f'{DATABASE_URL}')"
   ]
  },
  {
   "cell_type": "markdown",
   "metadata": {},
   "source": [
    "I am \"breaking\" the dataframe into 4000-row dataframes to send to it the database faster"
   ]
  },
  {
   "cell_type": "code",
   "execution_count": null,
   "metadata": {},
   "outputs": [],
   "source": [
    "qty_lines = href_df.shape[0]\n",
    "\n",
    "while qty_lines > 0:\n",
    "    href_first_4000 = href_df.iloc[:4000,:]\n",
    "    conn = engine.connect()\n",
    "    href_first_4000.to_sql('href_df', con=conn, if_exists='append', index = False)\n",
    "    conn.close()\n",
    "    href_df = href_df.drop(index=list(href_first_4000.index))\n",
    "    qty_lines = href_df.shape[0]"
   ]
  },
  {
   "cell_type": "markdown",
   "metadata": {},
   "source": [
    "## Get recipe name, preparation time, how many portions, href"
   ]
  },
  {
   "cell_type": "markdown",
   "metadata": {},
   "source": [
    "Once again I'm using the workers.py file that has the create_recipe function and I'm using multiprocessing package to run faster, since there're so many recipes."
   ]
  },
  {
   "cell_type": "code",
   "execution_count": null,
   "metadata": {
    "scrolled": true
   },
   "outputs": [],
   "source": [
    "if __name__ ==  '__main__': \n",
    "    num_processors = 4\n",
    "    p=Pool(processes = num_processors)\n",
    "    output = p.map(workers.create_recipe,[elem for elem in href_df['href']])"
   ]
  },
  {
   "cell_type": "markdown",
   "metadata": {},
   "source": [
    "Send database to a csv file"
   ]
  },
  {
   "cell_type": "code",
   "execution_count": 3,
   "metadata": {},
   "outputs": [],
   "source": [
    "engine = db.create_engine(f'{DATABASE_URL}')\n",
    "conn = engine.connect()\n",
    "recipes_df = pd.read_sql('SELECT /*+ MAX_EXECUTION_TIME(1000000) */ * from recipes.recipes_df', con=conn)"
   ]
  },
  {
   "cell_type": "code",
   "execution_count": null,
   "metadata": {},
   "outputs": [],
   "source": [
    "recipes_df.to_json()"
   ]
  },
  {
   "cell_type": "code",
   "execution_count": 7,
   "metadata": {},
   "outputs": [],
   "source": [
    "recipes_df.to_csv('./data/recipes_df.csv', index = False)"
   ]
  },
  {
   "cell_type": "markdown",
   "metadata": {},
   "source": [
    "## Get recipe's images"
   ]
  },
  {
   "cell_type": "markdown",
   "metadata": {},
   "source": [
    "Using the workers.py file that has the get_images function to get all url's images from the recipes"
   ]
  },
  {
   "cell_type": "code",
   "execution_count": null,
   "metadata": {},
   "outputs": [],
   "source": [
    "if __name__ ==  '__main__':\n",
    "    p = Pool(processes = 4)\n",
    "    output = p.map(workers.get_images,[elem for elem in href_df['href']])"
   ]
  }
 ],
 "metadata": {
  "kernelspec": {
   "display_name": "Python 3",
   "language": "python",
   "name": "python3"
  },
  "language_info": {
   "codemirror_mode": {
    "name": "ipython",
    "version": 3
   },
   "file_extension": ".py",
   "mimetype": "text/x-python",
   "name": "python",
   "nbconvert_exporter": "python",
   "pygments_lexer": "ipython3",
   "version": "3.7.6"
  },
  "toc": {
   "base_numbering": 1,
   "nav_menu": {},
   "number_sections": true,
   "sideBar": true,
   "skip_h1_title": false,
   "title_cell": "Table of Contents",
   "title_sidebar": "Contents",
   "toc_cell": false,
   "toc_position": {},
   "toc_section_display": true,
   "toc_window_display": false
  },
  "varInspector": {
   "cols": {
    "lenName": 16,
    "lenType": 16,
    "lenVar": 40
   },
   "kernels_config": {
    "python": {
     "delete_cmd_postfix": "",
     "delete_cmd_prefix": "del ",
     "library": "var_list.py",
     "varRefreshCmd": "print(var_dic_list())"
    },
    "r": {
     "delete_cmd_postfix": ") ",
     "delete_cmd_prefix": "rm(",
     "library": "var_list.r",
     "varRefreshCmd": "cat(var_dic_list()) "
    }
   },
   "types_to_exclude": [
    "module",
    "function",
    "builtin_function_or_method",
    "instance",
    "_Feature"
   ],
   "window_display": false
  }
 },
 "nbformat": 4,
 "nbformat_minor": 2
}
