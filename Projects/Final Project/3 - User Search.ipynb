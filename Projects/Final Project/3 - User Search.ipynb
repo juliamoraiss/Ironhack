{
 "cells": [
  {
   "cell_type": "markdown",
   "metadata": {},
   "source": [
    "# Importing Libraries"
   ]
  },
  {
   "cell_type": "code",
   "execution_count": 311,
   "metadata": {},
   "outputs": [],
   "source": [
    "import requests\n",
    "import pandas as pd\n",
    "from tqdm.auto import tqdm\n",
    "import sqlalchemy as db\n",
    "from fuzzywuzzy import fuzz"
   ]
  },
  {
   "cell_type": "markdown",
   "metadata": {},
   "source": [
    "# Creating the connection with database"
   ]
  },
  {
   "cell_type": "markdown",
   "metadata": {},
   "source": [
    "Transforming the table into a pandas Dataframe"
   ]
  },
  {
   "cell_type": "code",
   "execution_count": 312,
   "metadata": {},
   "outputs": [],
   "source": [
    "engine = db.create_engine(f'{DATABASE_URL}')\n",
    "conn = engine.connect()\n",
    "df_ingredientes = pd.read_sql('ingredient', con=conn)"
   ]
  },
  {
   "cell_type": "markdown",
   "metadata": {},
   "source": [
    "# Search for recipes"
   ]
  },
  {
   "cell_type": "markdown",
   "metadata": {},
   "source": [
    "## User input (ingredients)"
   ]
  },
  {
   "cell_type": "code",
   "execution_count": 349,
   "metadata": {},
   "outputs": [
    {
     "name": "stdout",
     "output_type": "stream",
     "text": [
      "Ingredientes:ovo\n",
      "Ingredientes:chocolate\n",
      "Ingredientes:farinha\n",
      "Ingredientes:manteiga\n",
      "Ingredientes:ok\n"
     ]
    }
   ],
   "source": [
    "user_ingredients = []\n",
    "while True:\n",
    "    ingredient = str(input('Ingredientes:'))\n",
    "    if ingredient == 'ok':\n",
    "        break\n",
    "    else:\n",
    "        user_ingredients.append(ingredient)"
   ]
  },
  {
   "cell_type": "code",
   "execution_count": 350,
   "metadata": {},
   "outputs": [
    {
     "data": {
      "text/plain": [
       "['ovo', 'chocolate', 'farinha', 'manteiga']"
      ]
     },
     "execution_count": 350,
     "metadata": {},
     "output_type": "execute_result"
    }
   ],
   "source": [
    "user_ingredients"
   ]
  },
  {
   "cell_type": "markdown",
   "metadata": {},
   "source": [
    "## Returning the ingredient's ids"
   ]
  },
  {
   "cell_type": "code",
   "execution_count": 352,
   "metadata": {},
   "outputs": [],
   "source": [
    "id_ingredient_user = []\n",
    "for ingredient in user_ingredients:\n",
    "    lst_id_ingredient = df_ingredientes.loc[df_ingredientes['ingrediente'] == f'{ingredient}', :]['id_ingrediente'].values\n",
    "    \n",
    "    if len(lst_id_ingredient) > 0:\n",
    "        id_ingredient = lst_id_ingredient[0]\n",
    "        id_ingredient_user.append(id_ingredient)\n",
    "    else:\n",
    "        for unique_ingredient in df_ingredientes['ingrediente']:\n",
    "                ratio = fuzz.token_set_ratio(ingredient, unique_ingredient)\n",
    "                if ratio > 85:\n",
    "                    lst_id_ingredient = df_ingredientes.loc[df_ingredientes['ingrediente'] == f'{unique_ingredient}', :]['id_ingrediente'].values\n",
    "                    id_ingredient = lst_id_ingredient[0]\n",
    "                    id_ingredient_user.append(id_ingredient)\n",
    "                    break"
   ]
  },
  {
   "cell_type": "code",
   "execution_count": 353,
   "metadata": {},
   "outputs": [],
   "source": [
    "id_ingredient_user = tuple(id_ingredient_user)"
   ]
  },
  {
   "cell_type": "markdown",
   "metadata": {},
   "source": [
    "## Returning the recipes"
   ]
  },
  {
   "cell_type": "code",
   "execution_count": 399,
   "metadata": {},
   "outputs": [
    {
     "name": "stderr",
     "output_type": "stream",
     "text": [
      "Exception during reset or similar\n",
      "Traceback (most recent call last):\n",
      "  File \"C:\\Users\\julia\\anaconda3\\lib\\site-packages\\sqlalchemy\\pool\\base.py\", line 693, in _finalize_fairy\n",
      "    fairy._reset(pool)\n",
      "  File \"C:\\Users\\julia\\anaconda3\\lib\\site-packages\\sqlalchemy\\pool\\base.py\", line 880, in _reset\n",
      "    pool._dialect.do_rollback(self)\n",
      "  File \"C:\\Users\\julia\\anaconda3\\lib\\site-packages\\sqlalchemy\\dialects\\mysql\\base.py\", line 2302, in do_rollback\n",
      "    dbapi_connection.rollback()\n",
      "  File \"C:\\Users\\julia\\anaconda3\\lib\\site-packages\\mysql\\connector\\connection_cext.py\", line 386, in rollback\n",
      "    self._cmysql.rollback()\n",
      "_mysql_connector.MySQLInterfaceError: Lost connection to MySQL server during query\n"
     ]
    }
   ],
   "source": [
    "engine = db.create_engine(f'{DATABASE_URL}')\n",
    "conn = engine.connect()\n",
    "query = f'''SELECT \n",
    "                        t2.href,\n",
    "                        t2.rendimento,\n",
    "                        t2.tempo_preparo,\n",
    "                        t2.nome,\n",
    "                        t2.qtde_ingrediente_usuario,\n",
    "                        t2.qtd_ingrediente,\n",
    "                        t2.ingredients_ratio,\n",
    "                        t2.categoria,\n",
    "                        rim.image_url\n",
    "                    FROM\n",
    "                        (SELECT \n",
    "                            *\n",
    "                        FROM\n",
    "                            (SELECT \n",
    "                            r.href,\n",
    "                                r.rendimento,\n",
    "                                r.tempo_preparo,\n",
    "                                r.nome,\n",
    "                                COUNT(i.id_ingrediente) AS qtde_ingrediente_usuario,\n",
    "                                r.qtd_ingrediente,\n",
    "                                (COUNT(i.id_ingrediente) / r.qtd_ingrediente) AS ingredients_ratio,\n",
    "                                r.categoria\n",
    "                        FROM\n",
    "                            ingredient i\n",
    "                        JOIN recipe_ingredient ri ON i.id_ingrediente = ri.id_ingredient\n",
    "                        JOIN recipes_df r ON r.id_recipes_df = ri.id_recipe\n",
    "                        WHERE\n",
    "                            i.id_ingrediente IN {id_ingredient_user}\n",
    "                        GROUP BY ri.id_recipe\n",
    "                        ORDER BY qtde_ingrediente_usuario DESC) AS t\n",
    "                        WHERE\n",
    "                            t.ingredients_ratio > 0.6\n",
    "                            LIMIT 200) AS t2\n",
    "                            LEFT JOIN\n",
    "                        recipes.images rim ON t2.href = rim.href\n",
    "                        WHERE rim.image_url IS NOT NULL\n",
    "                        ORDER BY t2.ingredients_ratio DESC\n",
    "                        LIMIT 21'''"
   ]
  },
  {
   "cell_type": "code",
   "execution_count": 400,
   "metadata": {},
   "outputs": [],
   "source": [
    "results = engine.execute(query)\n",
    "recipes = [recipe for recipe in results]"
   ]
  },
  {
   "cell_type": "code",
   "execution_count": 394,
   "metadata": {},
   "outputs": [
    {
     "data": {
      "text/plain": [
       "[('https://www.tudogostoso.com.br/receita/164057-bolo-recheado.html', '10 porções', '30MIN', 'Bolo recheado', 4, 10, Decimal('0.4000')),\n",
       " ('https://www.tudogostoso.com.br/receita/154123-melhor-bolo-prestigio.html', '15 porções', '150MIN', 'Melhor bolo prestígio', 4, 11, Decimal('0.3636')),\n",
       " ('https://www.tudogostoso.com.br/receita/129074-muffin-com-gotas-de-chocolate.html', '22 porções', '30MIN', 'Muffin com gotas de chocolate', 4, 9, Decimal('0.4444')),\n",
       " ('https://www.tudogostoso.com.br/receita/47472-bolo-tipo-prestigio.html', '18 porções', '60MIN', 'Bolo tipo prestígio', 4, 9, Decimal('0.4444')),\n",
       " ('https://www.tudogostoso.com.br/receita/123100-cookie.html', '30 porções', '30MIN', 'Cookie', 4, 8, Decimal('0.5000'))]"
      ]
     },
     "execution_count": 394,
     "metadata": {},
     "output_type": "execute_result"
    }
   ],
   "source": [
    "recipes[:5]"
   ]
  }
 ],
 "metadata": {
  "kernelspec": {
   "display_name": "Python 3",
   "language": "python",
   "name": "python3"
  },
  "language_info": {
   "codemirror_mode": {
    "name": "ipython",
    "version": 3
   },
   "file_extension": ".py",
   "mimetype": "text/x-python",
   "name": "python",
   "nbconvert_exporter": "python",
   "pygments_lexer": "ipython3",
   "version": "3.7.6"
  },
  "toc": {
   "base_numbering": 1,
   "nav_menu": {},
   "number_sections": true,
   "sideBar": true,
   "skip_h1_title": false,
   "title_cell": "Table of Contents",
   "title_sidebar": "Contents",
   "toc_cell": false,
   "toc_position": {},
   "toc_section_display": true,
   "toc_window_display": false
  },
  "varInspector": {
   "cols": {
    "lenName": 16,
    "lenType": 16,
    "lenVar": 40
   },
   "kernels_config": {
    "python": {
     "delete_cmd_postfix": "",
     "delete_cmd_prefix": "del ",
     "library": "var_list.py",
     "varRefreshCmd": "print(var_dic_list())"
    },
    "r": {
     "delete_cmd_postfix": ") ",
     "delete_cmd_prefix": "rm(",
     "library": "var_list.r",
     "varRefreshCmd": "cat(var_dic_list()) "
    }
   },
   "types_to_exclude": [
    "module",
    "function",
    "builtin_function_or_method",
    "instance",
    "_Feature"
   ],
   "window_display": false
  }
 },
 "nbformat": 4,
 "nbformat_minor": 4
}
