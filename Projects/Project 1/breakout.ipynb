{
 "cells": [
  {
   "cell_type": "code",
   "execution_count": 1,
   "metadata": {},
   "outputs": [
    {
     "name": "stdout",
     "output_type": "stream",
     "text": [
      "pygame 1.9.6\n",
      "Hello from the pygame community. https://www.pygame.org/contribute.html\n"
     ]
    }
   ],
   "source": [
    "import pygame"
   ]
  },
  {
   "cell_type": "code",
   "execution_count": 2,
   "metadata": {},
   "outputs": [],
   "source": [
    "pygame.init()\n",
    "pygame.mixer.init()"
   ]
  },
  {
   "cell_type": "code",
   "execution_count": 3,
   "metadata": {},
   "outputs": [],
   "source": [
    "height_screen = 480\n",
    "width_screen = 640"
   ]
  },
  {
   "cell_type": "code",
   "execution_count": 4,
   "metadata": {},
   "outputs": [],
   "source": [
    "# Create the screen\n",
    "\n",
    "screen = pygame.display.set_mode([width_screen, height_screen])\n",
    "\n",
    "# Background image\n",
    "\n",
    "background = pygame.image.load('background.png')"
   ]
  },
  {
   "cell_type": "code",
   "execution_count": 5,
   "metadata": {},
   "outputs": [],
   "source": [
    "# Title & Icon\n",
    "\n",
    "pygame.display.set_caption('Breakout Game')\n",
    "icon = pygame.image.load('universe.png')\n",
    "pygame.display.set_icon(icon)"
   ]
  },
  {
   "cell_type": "code",
   "execution_count": 6,
   "metadata": {},
   "outputs": [],
   "source": [
    "# Sounds\n",
    "\n",
    "collision_sound = pygame.mixer.Sound('explosion.wav')"
   ]
  },
  {
   "cell_type": "code",
   "execution_count": 7,
   "metadata": {},
   "outputs": [],
   "source": [
    "# Player\n",
    "\n",
    "class Player(pygame.sprite.Sprite):\n",
    "    def __init__(self):\n",
    "        pygame.sprite.Sprite.__init__(self)\n",
    "\n",
    "        self.surf = pygame.image.load('bottom.png')\n",
    "        self.size_x = 100\n",
    "        self.player_pos_x = (width_screen/2)\n",
    "        self.player_pos_y = height_screen - 40\n",
    "        self.rect = self.surf.get_rect(center=(self.player_pos_x, self.player_pos_y))\n",
    "        self.speed = 3\n",
    "\n",
    "\n",
    "    def move_player(self):\n",
    "        keys = pygame.key.get_pressed()\n",
    "\n",
    "        if keys[pygame.K_LEFT] and self.rect.left > 0:\n",
    "            self.rect.move_ip(-self.speed, 0)\n",
    "        if keys[pygame.K_RIGHT] and self.rect.right < width_screen:\n",
    "            self.rect.move_ip(self.speed, 0)\n",
    "            \n",
    "    def reset(self):\n",
    "        self.player_pos_x = (width_screen/2)\n",
    "        self.player_pos_y = height_screen - 40\n",
    "        self.rect = self.surf.get_rect(center=(self.player_pos_x, self.player_pos_y))\n",
    "\n",
    "player = Player()"
   ]
  },
  {
   "cell_type": "code",
   "execution_count": 8,
   "metadata": {},
   "outputs": [],
   "source": [
    "# Ball\n",
    "\n",
    "class Ball(pygame.sprite.Sprite):\n",
    "    def __init__(self):\n",
    "        pygame.sprite.Sprite.__init__(self)\n",
    "        \n",
    "        self.size = 32\n",
    "        self.surf = pygame.image.load('lua.png')\n",
    "        self.ball_x = player.player_pos_x + (player.size_x/2) - (self.size/2)\n",
    "        self.ball_y = player.player_pos_y - (self.size)\n",
    "        self.rect = self.surf.get_rect(center=(self.ball_x, self.ball_y))\n",
    "        self.speed = [2,2]\n",
    "    \n",
    "    def move_ball(self):\n",
    "        self.rect = self.rect.move(self.speed)\n",
    "        \n",
    "        if self.rect.left < 0 or self.rect.right > width_screen:\n",
    "            self.speed[0] = -self.speed[0]\n",
    "        if self.rect.top < 0:\n",
    "            self.speed[1] = -self.speed[1]\n",
    "        if self.rect.bottom > height_screen:\n",
    "            game_over('loser')\n",
    "            \n",
    "    def reset(self):\n",
    "        self.ball_x = player.player_pos_x + (player.size_x/2) - (self.size/2)\n",
    "        self.ball_y = player.player_pos_y - (self.size)\n",
    "        self.rect = self.surf.get_rect(center=(self.ball_x, self.ball_y))\n",
    "        self.speed = [2,2]\n",
    "\n",
    "ball = Ball()"
   ]
  },
  {
   "cell_type": "code",
   "execution_count": 9,
   "metadata": {},
   "outputs": [],
   "source": [
    "# Stars\n",
    "\n",
    "class Star(pygame.sprite.Sprite):\n",
    "    def __init__(self, x, y):\n",
    "        pygame.sprite.Sprite.__init__(self)\n",
    "        \n",
    "        self.surf = pygame.image.load('star.png')\n",
    "        self.rect = self.surf.get_rect(center=(x,y))\n",
    "        \n",
    "        \n",
    "stars = pygame.sprite.Group()\n",
    "  \n",
    "def create_stars():\n",
    "    star_size = 32\n",
    "    num_row = 6\n",
    "    star_x = star_size/2\n",
    "    star_y = star_size/2\n",
    "    while star_y < star_size * num_row:\n",
    "        while star_x < width_screen:\n",
    "            star = Star(star_x, star_y)\n",
    "            stars.add(star)\n",
    "            star_x += star_size\n",
    "        star_x = (star_size/2)\n",
    "        star_y += star_size\n",
    "        \n",
    "create_stars()"
   ]
  },
  {
   "cell_type": "code",
   "execution_count": 10,
   "metadata": {},
   "outputs": [],
   "source": [
    "# Score\n",
    "\n",
    "score_value = 0\n",
    "font = pygame.font.Font('freesansbold.ttf',22)\n",
    "\n",
    "def show_score(score_value):\n",
    "    score = font.render(f'Score: {score_value}', True, (255,255,255))\n",
    "    screen.blit(score, (10, 450))"
   ]
  },
  {
   "cell_type": "code",
   "execution_count": 11,
   "metadata": {},
   "outputs": [],
   "source": [
    "# Game Over\n",
    "\n",
    "def game_over(img):\n",
    "    gameover_img = pygame.image.load(f'{img}.png')\n",
    "    gameover_rect = gameover_img.get_rect(center=(width_screen/2, height_screen/2 - 50))\n",
    "    screen.blit(gameover_img, gameover_rect)\n",
    "\n",
    "    restart_img = pygame.image.load('restart.png')\n",
    "    restart_rect = restart_img.get_rect(center=(width_screen/2, height_screen/2 + 130))\n",
    "    screen.blit(restart_img, restart_rect)\n",
    "\n",
    "    ball.speed = [0, 0]\n",
    "\n",
    "    mouse = pygame.mouse.get_pos()\n",
    "    click = pygame.mouse.get_pressed()\n",
    "    if click[0] == 1:\n",
    "        if width_screen/2 - 32 < mouse[0] < width_screen/2 + 32  and height_screen/2 + 130 + 32 > mouse[1] > height_screen/2 + 130 - 32:\n",
    "            stars.empty()\n",
    "            create_stars()\n",
    "            ball.reset()\n",
    "            player.reset()"
   ]
  },
  {
   "cell_type": "code",
   "execution_count": 12,
   "metadata": {},
   "outputs": [],
   "source": [
    "# Game Loop\n",
    "\n",
    "running = True\n",
    "\n",
    "while running:\n",
    "    \n",
    "    # Background\n",
    "    screen.blit(background, (0, 0))\n",
    "        \n",
    "    # Player\n",
    "    screen.blit(player.surf, player.rect)\n",
    "    player.move_player()\n",
    "\n",
    "    # Stars\n",
    "    for star in stars:\n",
    "        screen.blit(star.surf, star.rect)\n",
    "\n",
    "    # Ball\n",
    "    screen.blit(ball.surf, ball.rect)\n",
    "    ball.move_ball()\n",
    "\n",
    "    # Quit game\n",
    "    for event in pygame.event.get():\n",
    "        if event.type == pygame.QUIT:\n",
    "            running = False\n",
    "\n",
    "    # Colision\n",
    "    if ball.rect.colliderect(player.rect):\n",
    "        ball.speed[1] = -ball.speed[1]\n",
    "\n",
    "    collided_stars = pygame.sprite.spritecollide(ball, stars, True)\n",
    "    if collided_stars:\n",
    "        collision_sound.play()\n",
    "        ball.speed[1] = -ball.speed[1]\n",
    "\n",
    "    # Score\n",
    "    for star in collided_stars:\n",
    "        score_value += 1\n",
    "    if len(stars) == 6 * 20:\n",
    "        score_value = 0\n",
    "\n",
    "    show_score(score_value)\n",
    "    \n",
    "    if len(stars) == 0:\n",
    "        game_over('winner')\n",
    "\n",
    "    pygame.display.update()\n",
    "\n",
    "\n",
    "pygame.quit()"
   ]
  }
 ],
 "metadata": {
  "kernelspec": {
   "display_name": "Python 3",
   "language": "python",
   "name": "python3"
  },
  "language_info": {
   "codemirror_mode": {
    "name": "ipython",
    "version": 3
   },
   "file_extension": ".py",
   "mimetype": "text/x-python",
   "name": "python",
   "nbconvert_exporter": "python",
   "pygments_lexer": "ipython3",
   "version": "3.7.4"
  },
  "toc": {
   "base_numbering": 1,
   "nav_menu": {},
   "number_sections": true,
   "sideBar": true,
   "skip_h1_title": false,
   "title_cell": "Table of Contents",
   "title_sidebar": "Contents",
   "toc_cell": false,
   "toc_position": {},
   "toc_section_display": true,
   "toc_window_display": false
  },
  "varInspector": {
   "cols": {
    "lenName": 16,
    "lenType": 16,
    "lenVar": 40
   },
   "kernels_config": {
    "python": {
     "delete_cmd_postfix": "",
     "delete_cmd_prefix": "del ",
     "library": "var_list.py",
     "varRefreshCmd": "print(var_dic_list())"
    },
    "r": {
     "delete_cmd_postfix": ") ",
     "delete_cmd_prefix": "rm(",
     "library": "var_list.r",
     "varRefreshCmd": "cat(var_dic_list()) "
    }
   },
   "types_to_exclude": [
    "module",
    "function",
    "builtin_function_or_method",
    "instance",
    "_Feature"
   ],
   "window_display": false
  }
 },
 "nbformat": 4,
 "nbformat_minor": 2
}
