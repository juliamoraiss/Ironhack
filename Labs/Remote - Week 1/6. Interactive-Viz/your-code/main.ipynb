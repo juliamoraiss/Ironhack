{
 "cells": [
  {
   "cell_type": "markdown",
   "metadata": {},
   "source": [
    "# Interactive Visualization Lab\n",
    "\n",
    "Complete the following set of exercises to solidify your knowledge of interactive visualization using Plotly, Cufflinks, and IPyWidgets."
   ]
  },
  {
   "cell_type": "code",
   "execution_count": 1,
   "metadata": {},
   "outputs": [
    {
     "data": {
      "text/html": [
       "        <script type=\"text/javascript\">\n",
       "        window.PlotlyConfig = {MathJaxConfig: 'local'};\n",
       "        if (window.MathJax) {MathJax.Hub.Config({SVG: {font: \"STIX-Web\"}});}\n",
       "        if (typeof require !== 'undefined') {\n",
       "        require.undef(\"plotly\");\n",
       "        requirejs.config({\n",
       "            paths: {\n",
       "                'plotly': ['https://cdn.plot.ly/plotly-latest.min']\n",
       "            }\n",
       "        });\n",
       "        require(['plotly'], function(Plotly) {\n",
       "            window._Plotly = Plotly;\n",
       "        });\n",
       "        }\n",
       "        </script>\n",
       "        "
      ]
     },
     "metadata": {},
     "output_type": "display_data"
    }
   ],
   "source": [
    "import pandas as pd\n",
    "import plotly.plotly as py\n",
    "import cufflinks as cf\n",
    "import plotly.graph_objs as go\n",
    "from ipywidgets import interact\n",
    "from ipywidgets import widgets\n",
    "\n",
    "cf.go_offline()"
   ]
  },
  {
   "cell_type": "code",
   "execution_count": 2,
   "metadata": {},
   "outputs": [],
   "source": [
    "data = pd.read_excel('../data/Online Retail.xlsx')"
   ]
  },
  {
   "cell_type": "code",
   "execution_count": 3,
   "metadata": {},
   "outputs": [
    {
     "data": {
      "text/html": [
       "<div>\n",
       "<style scoped>\n",
       "    .dataframe tbody tr th:only-of-type {\n",
       "        vertical-align: middle;\n",
       "    }\n",
       "\n",
       "    .dataframe tbody tr th {\n",
       "        vertical-align: top;\n",
       "    }\n",
       "\n",
       "    .dataframe thead th {\n",
       "        text-align: right;\n",
       "    }\n",
       "</style>\n",
       "<table border=\"1\" class=\"dataframe\">\n",
       "  <thead>\n",
       "    <tr style=\"text-align: right;\">\n",
       "      <th></th>\n",
       "      <th>InvoiceNo</th>\n",
       "      <th>InvoiceDate</th>\n",
       "      <th>StockCode</th>\n",
       "      <th>Description</th>\n",
       "      <th>Quantity</th>\n",
       "      <th>UnitPrice</th>\n",
       "      <th>Revenue</th>\n",
       "      <th>CustomerID</th>\n",
       "      <th>Country</th>\n",
       "    </tr>\n",
       "  </thead>\n",
       "  <tbody>\n",
       "    <tr>\n",
       "      <th>0</th>\n",
       "      <td>536365</td>\n",
       "      <td>2010-12-01 08:26:00</td>\n",
       "      <td>85123A</td>\n",
       "      <td>CREAM HANGING HEART T-LIGHT HOLDER</td>\n",
       "      <td>6</td>\n",
       "      <td>2.55</td>\n",
       "      <td>15.3</td>\n",
       "      <td>17850</td>\n",
       "      <td>United Kingdom</td>\n",
       "    </tr>\n",
       "    <tr>\n",
       "      <th>1</th>\n",
       "      <td>536373</td>\n",
       "      <td>2010-12-01 09:02:00</td>\n",
       "      <td>85123A</td>\n",
       "      <td>CREAM HANGING HEART T-LIGHT HOLDER</td>\n",
       "      <td>6</td>\n",
       "      <td>2.55</td>\n",
       "      <td>15.3</td>\n",
       "      <td>17850</td>\n",
       "      <td>United Kingdom</td>\n",
       "    </tr>\n",
       "    <tr>\n",
       "      <th>2</th>\n",
       "      <td>536375</td>\n",
       "      <td>2010-12-01 09:32:00</td>\n",
       "      <td>85123A</td>\n",
       "      <td>CREAM HANGING HEART T-LIGHT HOLDER</td>\n",
       "      <td>6</td>\n",
       "      <td>2.55</td>\n",
       "      <td>15.3</td>\n",
       "      <td>17850</td>\n",
       "      <td>United Kingdom</td>\n",
       "    </tr>\n",
       "    <tr>\n",
       "      <th>3</th>\n",
       "      <td>536390</td>\n",
       "      <td>2010-12-01 10:19:00</td>\n",
       "      <td>85123A</td>\n",
       "      <td>CREAM HANGING HEART T-LIGHT HOLDER</td>\n",
       "      <td>64</td>\n",
       "      <td>2.55</td>\n",
       "      <td>163.2</td>\n",
       "      <td>17511</td>\n",
       "      <td>United Kingdom</td>\n",
       "    </tr>\n",
       "    <tr>\n",
       "      <th>4</th>\n",
       "      <td>536394</td>\n",
       "      <td>2010-12-01 10:39:00</td>\n",
       "      <td>85123A</td>\n",
       "      <td>CREAM HANGING HEART T-LIGHT HOLDER</td>\n",
       "      <td>32</td>\n",
       "      <td>2.55</td>\n",
       "      <td>81.6</td>\n",
       "      <td>13408</td>\n",
       "      <td>United Kingdom</td>\n",
       "    </tr>\n",
       "  </tbody>\n",
       "</table>\n",
       "</div>"
      ],
      "text/plain": [
       "   InvoiceNo         InvoiceDate StockCode  \\\n",
       "0     536365 2010-12-01 08:26:00    85123A   \n",
       "1     536373 2010-12-01 09:02:00    85123A   \n",
       "2     536375 2010-12-01 09:32:00    85123A   \n",
       "3     536390 2010-12-01 10:19:00    85123A   \n",
       "4     536394 2010-12-01 10:39:00    85123A   \n",
       "\n",
       "                          Description  Quantity  UnitPrice  Revenue  \\\n",
       "0  CREAM HANGING HEART T-LIGHT HOLDER         6       2.55     15.3   \n",
       "1  CREAM HANGING HEART T-LIGHT HOLDER         6       2.55     15.3   \n",
       "2  CREAM HANGING HEART T-LIGHT HOLDER         6       2.55     15.3   \n",
       "3  CREAM HANGING HEART T-LIGHT HOLDER        64       2.55    163.2   \n",
       "4  CREAM HANGING HEART T-LIGHT HOLDER        32       2.55     81.6   \n",
       "\n",
       "   CustomerID         Country  \n",
       "0       17850  United Kingdom  \n",
       "1       17850  United Kingdom  \n",
       "2       17850  United Kingdom  \n",
       "3       17511  United Kingdom  \n",
       "4       13408  United Kingdom  "
      ]
     },
     "execution_count": 3,
     "metadata": {},
     "output_type": "execute_result"
    }
   ],
   "source": [
    "data.head()"
   ]
  },
  {
   "cell_type": "markdown",
   "metadata": {},
   "source": [
    "## 1. Create an interactive bar chart showing total quantity and revenue by country (excluding United Kingdom) for the month of April 2011."
   ]
  },
  {
   "cell_type": "code",
   "execution_count": 4,
   "metadata": {},
   "outputs": [
    {
     "data": {
      "text/html": [
       "<div>\n",
       "<style scoped>\n",
       "    .dataframe tbody tr th:only-of-type {\n",
       "        vertical-align: middle;\n",
       "    }\n",
       "\n",
       "    .dataframe tbody tr th {\n",
       "        vertical-align: top;\n",
       "    }\n",
       "\n",
       "    .dataframe thead th {\n",
       "        text-align: right;\n",
       "    }\n",
       "</style>\n",
       "<table border=\"1\" class=\"dataframe\">\n",
       "  <thead>\n",
       "    <tr style=\"text-align: right;\">\n",
       "      <th></th>\n",
       "      <th>InvoiceNo</th>\n",
       "      <th>InvoiceDate</th>\n",
       "      <th>StockCode</th>\n",
       "      <th>Description</th>\n",
       "      <th>Quantity</th>\n",
       "      <th>UnitPrice</th>\n",
       "      <th>Revenue</th>\n",
       "      <th>CustomerID</th>\n",
       "      <th>Country</th>\n",
       "      <th>Month</th>\n",
       "      <th>Year</th>\n",
       "    </tr>\n",
       "  </thead>\n",
       "  <tbody>\n",
       "    <tr>\n",
       "      <th>0</th>\n",
       "      <td>536365</td>\n",
       "      <td>2010-12-01 08:26:00</td>\n",
       "      <td>85123A</td>\n",
       "      <td>CREAM HANGING HEART T-LIGHT HOLDER</td>\n",
       "      <td>6</td>\n",
       "      <td>2.55</td>\n",
       "      <td>15.3</td>\n",
       "      <td>17850</td>\n",
       "      <td>United Kingdom</td>\n",
       "      <td>12</td>\n",
       "      <td>2010</td>\n",
       "    </tr>\n",
       "    <tr>\n",
       "      <th>1</th>\n",
       "      <td>536373</td>\n",
       "      <td>2010-12-01 09:02:00</td>\n",
       "      <td>85123A</td>\n",
       "      <td>CREAM HANGING HEART T-LIGHT HOLDER</td>\n",
       "      <td>6</td>\n",
       "      <td>2.55</td>\n",
       "      <td>15.3</td>\n",
       "      <td>17850</td>\n",
       "      <td>United Kingdom</td>\n",
       "      <td>12</td>\n",
       "      <td>2010</td>\n",
       "    </tr>\n",
       "    <tr>\n",
       "      <th>2</th>\n",
       "      <td>536375</td>\n",
       "      <td>2010-12-01 09:32:00</td>\n",
       "      <td>85123A</td>\n",
       "      <td>CREAM HANGING HEART T-LIGHT HOLDER</td>\n",
       "      <td>6</td>\n",
       "      <td>2.55</td>\n",
       "      <td>15.3</td>\n",
       "      <td>17850</td>\n",
       "      <td>United Kingdom</td>\n",
       "      <td>12</td>\n",
       "      <td>2010</td>\n",
       "    </tr>\n",
       "    <tr>\n",
       "      <th>3</th>\n",
       "      <td>536390</td>\n",
       "      <td>2010-12-01 10:19:00</td>\n",
       "      <td>85123A</td>\n",
       "      <td>CREAM HANGING HEART T-LIGHT HOLDER</td>\n",
       "      <td>64</td>\n",
       "      <td>2.55</td>\n",
       "      <td>163.2</td>\n",
       "      <td>17511</td>\n",
       "      <td>United Kingdom</td>\n",
       "      <td>12</td>\n",
       "      <td>2010</td>\n",
       "    </tr>\n",
       "    <tr>\n",
       "      <th>4</th>\n",
       "      <td>536394</td>\n",
       "      <td>2010-12-01 10:39:00</td>\n",
       "      <td>85123A</td>\n",
       "      <td>CREAM HANGING HEART T-LIGHT HOLDER</td>\n",
       "      <td>32</td>\n",
       "      <td>2.55</td>\n",
       "      <td>81.6</td>\n",
       "      <td>13408</td>\n",
       "      <td>United Kingdom</td>\n",
       "      <td>12</td>\n",
       "      <td>2010</td>\n",
       "    </tr>\n",
       "  </tbody>\n",
       "</table>\n",
       "</div>"
      ],
      "text/plain": [
       "   InvoiceNo         InvoiceDate StockCode  \\\n",
       "0     536365 2010-12-01 08:26:00    85123A   \n",
       "1     536373 2010-12-01 09:02:00    85123A   \n",
       "2     536375 2010-12-01 09:32:00    85123A   \n",
       "3     536390 2010-12-01 10:19:00    85123A   \n",
       "4     536394 2010-12-01 10:39:00    85123A   \n",
       "\n",
       "                          Description  Quantity  UnitPrice  Revenue  \\\n",
       "0  CREAM HANGING HEART T-LIGHT HOLDER         6       2.55     15.3   \n",
       "1  CREAM HANGING HEART T-LIGHT HOLDER         6       2.55     15.3   \n",
       "2  CREAM HANGING HEART T-LIGHT HOLDER         6       2.55     15.3   \n",
       "3  CREAM HANGING HEART T-LIGHT HOLDER        64       2.55    163.2   \n",
       "4  CREAM HANGING HEART T-LIGHT HOLDER        32       2.55     81.6   \n",
       "\n",
       "   CustomerID         Country Month  Year  \n",
       "0       17850  United Kingdom    12  2010  \n",
       "1       17850  United Kingdom    12  2010  \n",
       "2       17850  United Kingdom    12  2010  \n",
       "3       17511  United Kingdom    12  2010  \n",
       "4       13408  United Kingdom    12  2010  "
      ]
     },
     "execution_count": 4,
     "metadata": {},
     "output_type": "execute_result"
    }
   ],
   "source": [
    "data['Month'] = data['InvoiceDate'].map(lambda x: x.strftime('%m'))\n",
    "data['Year'] = data['InvoiceDate'].map(lambda x: x.strftime('%Y'))\n",
    "data.head()"
   ]
  },
  {
   "cell_type": "code",
   "execution_count": 5,
   "metadata": {},
   "outputs": [
    {
     "data": {
      "application/vnd.plotly.v1+json": {
       "config": {
        "linkText": "Export to plot.ly",
        "plotlyServerURL": "https://plot.ly",
        "showLink": true
       },
       "data": [
        {
         "marker": {
          "color": "rgba(255, 153, 51, 0.6)",
          "line": {
           "color": "rgba(255, 153, 51, 1.0)",
           "width": 1
          }
         },
         "name": "Quantity",
         "orientation": "v",
         "text": "",
         "type": "bar",
         "uid": "86e092e3-963e-40b0-9bd8-d3fc2f8e3e3e",
         "x": [
          "Australia",
          "Austria",
          "Belgium",
          "Brazil",
          "Channel Islands",
          "EIRE",
          "Finland",
          "France",
          "Germany",
          "Greece",
          "Iceland",
          "Italy",
          "Japan",
          "Netherlands",
          "Poland",
          "Portugal",
          "Singapore",
          "Spain",
          "Sweden",
          "Switzerland",
          "USA"
         ],
         "y": [
          224,
          308,
          1170,
          356,
          96,
          4129,
          810,
          2265,
          5702,
          260,
          483,
          653,
          8058,
          1762,
          432,
          951,
          1384,
          948,
          306,
          878,
          137
         ]
        },
        {
         "marker": {
          "color": "rgba(55, 128, 191, 0.6)",
          "line": {
           "color": "rgba(55, 128, 191, 1.0)",
           "width": 1
          }
         },
         "name": "Revenue",
         "orientation": "v",
         "text": "",
         "type": "bar",
         "uid": "e4154d2c-1cbb-4ffd-a2ca-0191f912577c",
         "x": [
          "Australia",
          "Austria",
          "Belgium",
          "Brazil",
          "Channel Islands",
          "EIRE",
          "Finland",
          "France",
          "Germany",
          "Greece",
          "Iceland",
          "Italy",
          "Japan",
          "Netherlands",
          "Poland",
          "Portugal",
          "Singapore",
          "Spain",
          "Sweden",
          "Switzerland",
          "USA"
         ],
         "y": [
          421.6,
          584.78,
          1788.4799999999989,
          1143.6000000000001,
          243.00000000000003,
          7270.4999999999945,
          1368.92,
          3899.309999999998,
          10994.789999999995,
          509.73999999999995,
          636.2499999999999,
          737.8300000000002,
          6548.500000000001,
          2886.5600000000004,
          705.8399999999999,
          1687.7499999999998,
          2118.74,
          1645.65,
          649.1,
          1756.9399999999998,
          383.94999999999993
         ]
        }
       ],
       "layout": {
        "legend": {
         "bgcolor": "#F5F6F9",
         "font": {
          "color": "#4D5663"
         }
        },
        "paper_bgcolor": "#F5F6F9",
        "plot_bgcolor": "#F5F6F9",
        "title": {
         "font": {
          "color": "#4D5663"
         }
        },
        "xaxis": {
         "gridcolor": "#E1E5ED",
         "showgrid": true,
         "tickfont": {
          "color": "#4D5663"
         },
         "title": {
          "font": {
           "color": "#4D5663"
          },
          "text": ""
         },
         "zerolinecolor": "#E1E5ED"
        },
        "yaxis": {
         "gridcolor": "#E1E5ED",
         "showgrid": true,
         "tickfont": {
          "color": "#4D5663"
         },
         "title": {
          "font": {
           "color": "#4D5663"
          },
          "text": ""
         },
         "zerolinecolor": "#E1E5ED"
        }
       }
      },
      "text/html": [
       "<div>\n",
       "        \n",
       "        \n",
       "            <div id=\"093b2a26-f78f-4241-847a-260832080af9\" class=\"plotly-graph-div\" style=\"height:525px; width:100%;\"></div>\n",
       "            <script type=\"text/javascript\">\n",
       "                require([\"plotly\"], function(Plotly) {\n",
       "                    window.PLOTLYENV=window.PLOTLYENV || {};\n",
       "                    window.PLOTLYENV.BASE_URL='https://plot.ly';\n",
       "                    \n",
       "                if (document.getElementById(\"093b2a26-f78f-4241-847a-260832080af9\")) {\n",
       "                    Plotly.newPlot(\n",
       "                        '093b2a26-f78f-4241-847a-260832080af9',\n",
       "                        [{\"marker\": {\"color\": \"rgba(255, 153, 51, 0.6)\", \"line\": {\"color\": \"rgba(255, 153, 51, 1.0)\", \"width\": 1}}, \"name\": \"Quantity\", \"orientation\": \"v\", \"text\": \"\", \"type\": \"bar\", \"uid\": \"86e092e3-963e-40b0-9bd8-d3fc2f8e3e3e\", \"x\": [\"Australia\", \"Austria\", \"Belgium\", \"Brazil\", \"Channel Islands\", \"EIRE\", \"Finland\", \"France\", \"Germany\", \"Greece\", \"Iceland\", \"Italy\", \"Japan\", \"Netherlands\", \"Poland\", \"Portugal\", \"Singapore\", \"Spain\", \"Sweden\", \"Switzerland\", \"USA\"], \"y\": [224, 308, 1170, 356, 96, 4129, 810, 2265, 5702, 260, 483, 653, 8058, 1762, 432, 951, 1384, 948, 306, 878, 137]}, {\"marker\": {\"color\": \"rgba(55, 128, 191, 0.6)\", \"line\": {\"color\": \"rgba(55, 128, 191, 1.0)\", \"width\": 1}}, \"name\": \"Revenue\", \"orientation\": \"v\", \"text\": \"\", \"type\": \"bar\", \"uid\": \"e4154d2c-1cbb-4ffd-a2ca-0191f912577c\", \"x\": [\"Australia\", \"Austria\", \"Belgium\", \"Brazil\", \"Channel Islands\", \"EIRE\", \"Finland\", \"France\", \"Germany\", \"Greece\", \"Iceland\", \"Italy\", \"Japan\", \"Netherlands\", \"Poland\", \"Portugal\", \"Singapore\", \"Spain\", \"Sweden\", \"Switzerland\", \"USA\"], \"y\": [421.6, 584.78, 1788.4799999999989, 1143.6000000000001, 243.00000000000003, 7270.4999999999945, 1368.92, 3899.309999999998, 10994.789999999995, 509.73999999999995, 636.2499999999999, 737.8300000000002, 6548.500000000001, 2886.5600000000004, 705.8399999999999, 1687.7499999999998, 2118.74, 1645.65, 649.1, 1756.9399999999998, 383.94999999999993]}],\n",
       "                        {\"legend\": {\"bgcolor\": \"#F5F6F9\", \"font\": {\"color\": \"#4D5663\"}}, \"paper_bgcolor\": \"#F5F6F9\", \"plot_bgcolor\": \"#F5F6F9\", \"title\": {\"font\": {\"color\": \"#4D5663\"}}, \"xaxis\": {\"gridcolor\": \"#E1E5ED\", \"showgrid\": true, \"tickfont\": {\"color\": \"#4D5663\"}, \"title\": {\"font\": {\"color\": \"#4D5663\"}, \"text\": \"\"}, \"zerolinecolor\": \"#E1E5ED\"}, \"yaxis\": {\"gridcolor\": \"#E1E5ED\", \"showgrid\": true, \"tickfont\": {\"color\": \"#4D5663\"}, \"title\": {\"font\": {\"color\": \"#4D5663\"}, \"text\": \"\"}, \"zerolinecolor\": \"#E1E5ED\"}},\n",
       "                        {\"showLink\": true, \"linkText\": \"Export to plot.ly\", \"plotlyServerURL\": \"https://plot.ly\", \"responsive\": true}\n",
       "                    ).then(function(){\n",
       "                            \n",
       "var gd = document.getElementById('093b2a26-f78f-4241-847a-260832080af9');\n",
       "var x = new MutationObserver(function (mutations, observer) {{\n",
       "        var display = window.getComputedStyle(gd).display;\n",
       "        if (!display || display === 'none') {{\n",
       "            console.log([gd, 'removed!']);\n",
       "            Plotly.purge(gd);\n",
       "            observer.disconnect();\n",
       "        }}\n",
       "}});\n",
       "\n",
       "// Listen for the removal of the full notebook cells\n",
       "var notebookContainer = gd.closest('#notebook-container');\n",
       "if (notebookContainer) {{\n",
       "    x.observe(notebookContainer, {childList: true});\n",
       "}}\n",
       "\n",
       "// Listen for the clearing of the current output cell\n",
       "var outputEl = gd.closest('.output');\n",
       "if (outputEl) {{\n",
       "    x.observe(outputEl, {childList: true});\n",
       "}}\n",
       "\n",
       "                        })\n",
       "                };\n",
       "                });\n",
       "            </script>\n",
       "        </div>"
      ]
     },
     "metadata": {},
     "output_type": "display_data"
    }
   ],
   "source": [
    "# Group by country and sum Quantity and Revenue\n",
    "df = data.groupby(by=['Country', 'Year', 'Month'])[['Quantity', 'Revenue']].sum().reset_index()\n",
    "\n",
    "# Exclude United Kingdom from dataframe and get April 2011\n",
    "mask1 = df['Country'] != 'United Kingdom'\n",
    "mask2 = df['Year'] == '2011'\n",
    "mask3 = df['Month'] == '04'\n",
    "df = df.loc[mask1 & mask2 & mask3, :]\n",
    "\n",
    "# Plot\n",
    "df = df[['Country', 'Quantity', 'Revenue']]\n",
    "df.iplot(kind='bar', x='Country', )"
   ]
  },
  {
   "cell_type": "markdown",
   "metadata": {},
   "source": [
    "## 2. Create an interactive line chart showing quantity and revenue sold to France between January 1st and May 31st 2011."
   ]
  },
  {
   "cell_type": "code",
   "execution_count": 8,
   "metadata": {},
   "outputs": [
    {
     "data": {
      "application/vnd.plotly.v1+json": {
       "config": {
        "linkText": "Export to plot.ly",
        "plotlyServerURL": "https://plot.ly",
        "showLink": true
       },
       "data": [
        {
         "line": {
          "color": "rgba(255, 153, 51, 1.0)",
          "dash": "solid",
          "shape": "linear",
          "width": 1.3
         },
         "mode": "lines",
         "name": "Quantity",
         "text": "",
         "type": "scatter",
         "uid": "9a66c983-48d4-4d6b-8f7b-1f3480c57b28",
         "x": [
          "01",
          "02",
          "03",
          "04",
          "05"
         ],
         "y": [
          9112,
          5294,
          8640,
          2265,
          9706
         ]
        },
        {
         "line": {
          "color": "rgba(55, 128, 191, 1.0)",
          "dash": "solid",
          "shape": "linear",
          "width": 1.3
         },
         "mode": "lines",
         "name": "Revenue",
         "text": "",
         "type": "scatter",
         "uid": "3cb20a9e-9c00-4772-aecb-9c1ba8f2557d",
         "x": [
          "01",
          "02",
          "03",
          "04",
          "05"
         ],
         "y": [
          16174.120000000026,
          7687.960000000003,
          13689.550000000014,
          3899.309999999998,
          16174.879999999985
         ]
        }
       ],
       "layout": {
        "legend": {
         "bgcolor": "#F5F6F9",
         "font": {
          "color": "#4D5663"
         }
        },
        "paper_bgcolor": "#F5F6F9",
        "plot_bgcolor": "#F5F6F9",
        "title": {
         "font": {
          "color": "#4D5663"
         }
        },
        "xaxis": {
         "gridcolor": "#E1E5ED",
         "showgrid": true,
         "tickfont": {
          "color": "#4D5663"
         },
         "title": {
          "font": {
           "color": "#4D5663"
          },
          "text": ""
         },
         "zerolinecolor": "#E1E5ED"
        },
        "yaxis": {
         "gridcolor": "#E1E5ED",
         "showgrid": true,
         "tickfont": {
          "color": "#4D5663"
         },
         "title": {
          "font": {
           "color": "#4D5663"
          },
          "text": ""
         },
         "zerolinecolor": "#E1E5ED"
        }
       }
      },
      "text/html": [
       "<div>\n",
       "        \n",
       "        \n",
       "            <div id=\"c24a47cd-74b3-4037-b119-c022be1b22cd\" class=\"plotly-graph-div\" style=\"height:525px; width:100%;\"></div>\n",
       "            <script type=\"text/javascript\">\n",
       "                require([\"plotly\"], function(Plotly) {\n",
       "                    window.PLOTLYENV=window.PLOTLYENV || {};\n",
       "                    window.PLOTLYENV.BASE_URL='https://plot.ly';\n",
       "                    \n",
       "                if (document.getElementById(\"c24a47cd-74b3-4037-b119-c022be1b22cd\")) {\n",
       "                    Plotly.newPlot(\n",
       "                        'c24a47cd-74b3-4037-b119-c022be1b22cd',\n",
       "                        [{\"line\": {\"color\": \"rgba(255, 153, 51, 1.0)\", \"dash\": \"solid\", \"shape\": \"linear\", \"width\": 1.3}, \"mode\": \"lines\", \"name\": \"Quantity\", \"text\": \"\", \"type\": \"scatter\", \"uid\": \"9a66c983-48d4-4d6b-8f7b-1f3480c57b28\", \"x\": [\"01\", \"02\", \"03\", \"04\", \"05\"], \"y\": [9112, 5294, 8640, 2265, 9706]}, {\"line\": {\"color\": \"rgba(55, 128, 191, 1.0)\", \"dash\": \"solid\", \"shape\": \"linear\", \"width\": 1.3}, \"mode\": \"lines\", \"name\": \"Revenue\", \"text\": \"\", \"type\": \"scatter\", \"uid\": \"3cb20a9e-9c00-4772-aecb-9c1ba8f2557d\", \"x\": [\"01\", \"02\", \"03\", \"04\", \"05\"], \"y\": [16174.120000000026, 7687.960000000003, 13689.550000000014, 3899.309999999998, 16174.879999999985]}],\n",
       "                        {\"legend\": {\"bgcolor\": \"#F5F6F9\", \"font\": {\"color\": \"#4D5663\"}}, \"paper_bgcolor\": \"#F5F6F9\", \"plot_bgcolor\": \"#F5F6F9\", \"title\": {\"font\": {\"color\": \"#4D5663\"}}, \"xaxis\": {\"gridcolor\": \"#E1E5ED\", \"showgrid\": true, \"tickfont\": {\"color\": \"#4D5663\"}, \"title\": {\"font\": {\"color\": \"#4D5663\"}, \"text\": \"\"}, \"zerolinecolor\": \"#E1E5ED\"}, \"yaxis\": {\"gridcolor\": \"#E1E5ED\", \"showgrid\": true, \"tickfont\": {\"color\": \"#4D5663\"}, \"title\": {\"font\": {\"color\": \"#4D5663\"}, \"text\": \"\"}, \"zerolinecolor\": \"#E1E5ED\"}},\n",
       "                        {\"showLink\": true, \"linkText\": \"Export to plot.ly\", \"plotlyServerURL\": \"https://plot.ly\", \"responsive\": true}\n",
       "                    ).then(function(){\n",
       "                            \n",
       "var gd = document.getElementById('c24a47cd-74b3-4037-b119-c022be1b22cd');\n",
       "var x = new MutationObserver(function (mutations, observer) {{\n",
       "        var display = window.getComputedStyle(gd).display;\n",
       "        if (!display || display === 'none') {{\n",
       "            console.log([gd, 'removed!']);\n",
       "            Plotly.purge(gd);\n",
       "            observer.disconnect();\n",
       "        }}\n",
       "}});\n",
       "\n",
       "// Listen for the removal of the full notebook cells\n",
       "var notebookContainer = gd.closest('#notebook-container');\n",
       "if (notebookContainer) {{\n",
       "    x.observe(notebookContainer, {childList: true});\n",
       "}}\n",
       "\n",
       "// Listen for the clearing of the current output cell\n",
       "var outputEl = gd.closest('.output');\n",
       "if (outputEl) {{\n",
       "    x.observe(outputEl, {childList: true});\n",
       "}}\n",
       "\n",
       "                        })\n",
       "                };\n",
       "                });\n",
       "            </script>\n",
       "        </div>"
      ]
     },
     "metadata": {},
     "output_type": "display_data"
    }
   ],
   "source": [
    "df = data.groupby(by=['Country', 'Year', 'Month'])[['Quantity', 'Revenue']].sum().reset_index()\n",
    "\n",
    "# Exclude United Kingdom from dataframe and get April 2011\n",
    "mask1 = df['Country'] == 'France'\n",
    "mask2 = df['Year'] == '2011'\n",
    "mask3 = df['Month'] <= '05'\n",
    "mask4 = df['Month'] >= '01'\n",
    "df = df.loc[mask1 & mask2 & mask3 & mask4, :]\n",
    "df = df[['Month', 'Quantity', 'Revenue']]\n",
    "df.iplot(kind='line', x='Month')"
   ]
  },
  {
   "cell_type": "markdown",
   "metadata": {},
   "source": [
    "## 3. Create an interactive scatter plot showing the relationship between average quantity (x-axis) and average unit price (y-axis) for the product PARTY BUNTING with the plot points color-coded by country (categories)."
   ]
  },
  {
   "cell_type": "code",
   "execution_count": 9,
   "metadata": {},
   "outputs": [
    {
     "name": "stderr",
     "output_type": "stream",
     "text": [
      "C:\\Users\\julia\\Anaconda3\\lib\\site-packages\\cufflinks\\plotlytools.py:805: FutureWarning:\n",
      "\n",
      "The pandas.np module is deprecated and will be removed from pandas in a future version. Import numpy directly instead\n",
      "\n",
      "C:\\Users\\julia\\Anaconda3\\lib\\site-packages\\cufflinks\\plotlytools.py:808: FutureWarning:\n",
      "\n",
      "The pandas.np module is deprecated and will be removed from pandas in a future version. Import numpy directly instead\n",
      "\n"
     ]
    },
    {
     "data": {
      "application/vnd.plotly.v1+json": {
       "config": {
        "linkText": "Export to plot.ly",
        "plotlyServerURL": "https://plot.ly",
        "showLink": true
       },
       "data": [
        {
         "marker": {
          "color": "rgba(255, 153, 51, 1.0)",
          "line": {
           "width": 1.3
          },
          "opacity": 0.8,
          "size": 12,
          "symbol": "circle"
         },
         "mode": "markers",
         "name": "Australia",
         "textfont": {
          "color": "#4D5663"
         },
         "type": "scatter",
         "uid": "58b32e48-c20d-4d02-b177-5b1511493190",
         "x": [
          33.125
         ],
         "y": [
          4.7125
         ]
        },
        {
         "marker": {
          "color": "rgba(55, 128, 191, 1.0)",
          "line": {
           "width": 1.3
          },
          "opacity": 0.8,
          "size": 12,
          "symbol": "circle"
         },
         "mode": "markers",
         "name": "Austria",
         "textfont": {
          "color": "#4D5663"
         },
         "type": "scatter",
         "uid": "fa1946d9-c348-41bc-996c-99a2aa83cc50",
         "x": [
          8
         ],
         "y": [
          4.95
         ]
        },
        {
         "marker": {
          "color": "rgba(50, 171, 96, 1.0)",
          "line": {
           "width": 1.3
          },
          "opacity": 0.8,
          "size": 12,
          "symbol": "circle"
         },
         "mode": "markers",
         "name": "Belgium",
         "textfont": {
          "color": "#4D5663"
         },
         "type": "scatter",
         "uid": "aa487edf-53dd-4e5a-9fe4-9c7606182cfe",
         "x": [
          4
         ],
         "y": [
          4.95
         ]
        },
        {
         "marker": {
          "color": "rgba(128, 0, 128, 1.0)",
          "line": {
           "width": 1.3
          },
          "opacity": 0.8,
          "size": 12,
          "symbol": "circle"
         },
         "mode": "markers",
         "name": "Channel Islands",
         "textfont": {
          "color": "#4D5663"
         },
         "type": "scatter",
         "uid": "43caf100-733d-4327-8451-8acc636daf91",
         "x": [
          13.333333333333334
         ],
         "y": [
          4.95
         ]
        },
        {
         "marker": {
          "color": "rgba(219, 64, 82, 1.0)",
          "line": {
           "width": 1.3
          },
          "opacity": 0.8,
          "size": 12,
          "symbol": "circle"
         },
         "mode": "markers",
         "name": "Cyprus",
         "textfont": {
          "color": "#4D5663"
         },
         "type": "scatter",
         "uid": "24aabaf3-77f6-4746-902d-74249c825f3e",
         "x": [
          2.3333333333333335
         ],
         "y": [
          4.75
         ]
        },
        {
         "marker": {
          "color": "rgba(0, 128, 128, 1.0)",
          "line": {
           "width": 1.3
          },
          "opacity": 0.8,
          "size": 12,
          "symbol": "circle"
         },
         "mode": "markers",
         "name": "Denmark",
         "textfont": {
          "color": "#4D5663"
         },
         "type": "scatter",
         "uid": "e373c9d0-08ad-41bc-bc34-a4f7419a8e6d",
         "x": [
          12
         ],
         "y": [
          4.95
         ]
        },
        {
         "marker": {
          "color": "rgba(255, 255, 51, 1.0)",
          "line": {
           "width": 1.3
          },
          "opacity": 0.8,
          "size": 12,
          "symbol": "circle"
         },
         "mode": "markers",
         "name": "EIRE",
         "textfont": {
          "color": "#4D5663"
         },
         "type": "scatter",
         "uid": "44785e00-728a-4111-b501-11c3eec2b399",
         "x": [
          21.210526315789473
         ],
         "y": [
          4.739473684210528
         ]
        },
        {
         "marker": {
          "color": "rgba(128, 128, 0, 1.0)",
          "line": {
           "width": 1.3
          },
          "opacity": 0.8,
          "size": 12,
          "symbol": "circle"
         },
         "mode": "markers",
         "name": "Finland",
         "textfont": {
          "color": "#4D5663"
         },
         "type": "scatter",
         "uid": "9b0323ca-a3e4-4236-99fc-40b783ec28b1",
         "x": [
          6
         ],
         "y": [
          4.95
         ]
        },
        {
         "marker": {
          "color": "rgba(251, 128, 114, 1.0)",
          "line": {
           "width": 1.3
          },
          "opacity": 0.8,
          "size": 12,
          "symbol": "circle"
         },
         "mode": "markers",
         "name": "France",
         "textfont": {
          "color": "#4D5663"
         },
         "type": "scatter",
         "uid": "a8101147-3fec-47e1-a6dd-66b497c928e5",
         "x": [
          5.7272727272727275
         ],
         "y": [
          4.922727272727275
         ]
        },
        {
         "marker": {
          "color": "rgba(128, 177, 211, 1.0)",
          "line": {
           "width": 1.3
          },
          "opacity": 0.8,
          "size": 12,
          "symbol": "circle"
         },
         "mode": "markers",
         "name": "Germany",
         "textfont": {
          "color": "#4D5663"
         },
         "type": "scatter",
         "uid": "2f97de3d-8901-4555-bffb-d6c8f3a72ab7",
         "x": [
          6.8
         ],
         "y": [
          4.89
         ]
        },
        {
         "marker": {
          "color": "rgba(128, 177, 211, 0.8999999999999999)",
          "line": {
           "width": 1.3
          },
          "opacity": 0.8,
          "size": 12,
          "symbol": "circle"
         },
         "mode": "markers",
         "name": "Israel",
         "textfont": {
          "color": "#4D5663"
         },
         "type": "scatter",
         "uid": "6dda04ae-a60a-4c5c-9239-4c1259d91a03",
         "x": [
          1
         ],
         "y": [
          4.95
         ]
        },
        {
         "marker": {
          "color": "rgba(255, 153, 51, 0.8999999999999999)",
          "line": {
           "width": 1.3
          },
          "opacity": 0.8,
          "size": 12,
          "symbol": "circle"
         },
         "mode": "markers",
         "name": "Japan",
         "textfont": {
          "color": "#4D5663"
         },
         "type": "scatter",
         "uid": "9ea0645c-7719-4c4b-93fa-3a278bce321a",
         "x": [
          56.666666666666664
         ],
         "y": [
          4.183333333333334
         ]
        },
        {
         "marker": {
          "color": "rgba(55, 128, 191, 0.8999999999999999)",
          "line": {
           "width": 1.3
          },
          "opacity": 0.8,
          "size": 12,
          "symbol": "circle"
         },
         "mode": "markers",
         "name": "Lebanon",
         "textfont": {
          "color": "#4D5663"
         },
         "type": "scatter",
         "uid": "348577c2-f285-4981-957c-0398e94153b3",
         "x": [
          15
         ],
         "y": [
          4.65
         ]
        },
        {
         "marker": {
          "color": "rgba(50, 171, 96, 0.8999999999999999)",
          "line": {
           "width": 1.3
          },
          "opacity": 0.8,
          "size": 12,
          "symbol": "circle"
         },
         "mode": "markers",
         "name": "Netherlands",
         "textfont": {
          "color": "#4D5663"
         },
         "type": "scatter",
         "uid": "25ab7d5e-d5de-4b09-9952-f0b18e40faa2",
         "x": [
          50
         ],
         "y": [
          4.15
         ]
        },
        {
         "marker": {
          "color": "rgba(128, 0, 128, 0.8999999999999999)",
          "line": {
           "width": 1.3
          },
          "opacity": 0.8,
          "size": 12,
          "symbol": "circle"
         },
         "mode": "markers",
         "name": "Norway",
         "textfont": {
          "color": "#4D5663"
         },
         "type": "scatter",
         "uid": "ac957c9e-d4bd-464b-b3bf-dd1054383121",
         "x": [
          6
         ],
         "y": [
          4.95
         ]
        },
        {
         "marker": {
          "color": "rgba(219, 64, 82, 0.8999999999999999)",
          "line": {
           "width": 1.3
          },
          "opacity": 0.8,
          "size": 12,
          "symbol": "circle"
         },
         "mode": "markers",
         "name": "Singapore",
         "textfont": {
          "color": "#4D5663"
         },
         "type": "scatter",
         "uid": "b7790735-74ee-4f31-80e8-47a2867a1032",
         "x": [
          8
         ],
         "y": [
          4.95
         ]
        },
        {
         "marker": {
          "color": "rgba(0, 128, 128, 0.8999999999999999)",
          "line": {
           "width": 1.3
          },
          "opacity": 0.8,
          "size": 12,
          "symbol": "circle"
         },
         "mode": "markers",
         "name": "South Africa",
         "textfont": {
          "color": "#4D5663"
         },
         "type": "scatter",
         "uid": "20805ca4-db18-4a81-8f26-222aa2fa2227",
         "x": [
          4
         ],
         "y": [
          4.95
         ]
        },
        {
         "marker": {
          "color": "rgba(255, 255, 51, 0.8999999999999999)",
          "line": {
           "width": 1.3
          },
          "opacity": 0.8,
          "size": 12,
          "symbol": "circle"
         },
         "mode": "markers",
         "name": "Spain",
         "textfont": {
          "color": "#4D5663"
         },
         "type": "scatter",
         "uid": "20e47eaa-12e3-47b8-96af-3b554c07c7e1",
         "x": [
          4.75
         ],
         "y": [
          4.8375
         ]
        },
        {
         "marker": {
          "color": "rgba(128, 128, 0, 0.8999999999999999)",
          "line": {
           "width": 1.3
          },
          "opacity": 0.8,
          "size": 12,
          "symbol": "circle"
         },
         "mode": "markers",
         "name": "Switzerland",
         "textfont": {
          "color": "#4D5663"
         },
         "type": "scatter",
         "uid": "07db7807-5469-433b-aa24-71ba9e8447f6",
         "x": [
          17.2
         ],
         "y": [
          4.79
         ]
        },
        {
         "marker": {
          "color": "rgba(251, 128, 114, 0.8999999999999999)",
          "line": {
           "width": 1.3
          },
          "opacity": 0.8,
          "size": 12,
          "symbol": "circle"
         },
         "mode": "markers",
         "name": "United Kingdom",
         "textfont": {
          "color": "#4D5663"
         },
         "type": "scatter",
         "uid": "dffb15d9-c4c1-4263-acff-dd95b59e49a4",
         "x": [
          10.705432287681713
         ],
         "y": [
          4.880925784238609
         ]
        }
       ],
       "layout": {
        "legend": {
         "bgcolor": "#F5F6F9",
         "font": {
          "color": "#4D5663"
         }
        },
        "paper_bgcolor": "#F5F6F9",
        "plot_bgcolor": "#F5F6F9",
        "title": {
         "font": {
          "color": "#4D5663"
         },
         "text": "PARTY BUNTING"
        },
        "xaxis": {
         "gridcolor": "#E1E5ED",
         "showgrid": true,
         "tickfont": {
          "color": "#4D5663"
         },
         "title": {
          "font": {
           "color": "#4D5663"
          },
          "text": "Quantity"
         },
         "zerolinecolor": "#E1E5ED"
        },
        "yaxis": {
         "gridcolor": "#E1E5ED",
         "showgrid": true,
         "tickfont": {
          "color": "#4D5663"
         },
         "title": {
          "font": {
           "color": "#4D5663"
          },
          "text": "UnitPrice"
         },
         "zerolinecolor": "#E1E5ED"
        }
       }
      },
      "text/html": [
       "<div>\n",
       "        \n",
       "        \n",
       "            <div id=\"9fca56e5-aeae-4f09-a890-88f841ea28d2\" class=\"plotly-graph-div\" style=\"height:525px; width:100%;\"></div>\n",
       "            <script type=\"text/javascript\">\n",
       "                require([\"plotly\"], function(Plotly) {\n",
       "                    window.PLOTLYENV=window.PLOTLYENV || {};\n",
       "                    window.PLOTLYENV.BASE_URL='https://plot.ly';\n",
       "                    \n",
       "                if (document.getElementById(\"9fca56e5-aeae-4f09-a890-88f841ea28d2\")) {\n",
       "                    Plotly.newPlot(\n",
       "                        '9fca56e5-aeae-4f09-a890-88f841ea28d2',\n",
       "                        [{\"marker\": {\"color\": \"rgba(255, 153, 51, 1.0)\", \"line\": {\"width\": 1.3}, \"opacity\": 0.8, \"size\": 12, \"symbol\": \"circle\"}, \"mode\": \"markers\", \"name\": \"Australia\", \"textfont\": {\"color\": \"#4D5663\"}, \"type\": \"scatter\", \"uid\": \"58b32e48-c20d-4d02-b177-5b1511493190\", \"x\": [33.125], \"y\": [4.7125]}, {\"marker\": {\"color\": \"rgba(55, 128, 191, 1.0)\", \"line\": {\"width\": 1.3}, \"opacity\": 0.8, \"size\": 12, \"symbol\": \"circle\"}, \"mode\": \"markers\", \"name\": \"Austria\", \"textfont\": {\"color\": \"#4D5663\"}, \"type\": \"scatter\", \"uid\": \"fa1946d9-c348-41bc-996c-99a2aa83cc50\", \"x\": [8.0], \"y\": [4.95]}, {\"marker\": {\"color\": \"rgba(50, 171, 96, 1.0)\", \"line\": {\"width\": 1.3}, \"opacity\": 0.8, \"size\": 12, \"symbol\": \"circle\"}, \"mode\": \"markers\", \"name\": \"Belgium\", \"textfont\": {\"color\": \"#4D5663\"}, \"type\": \"scatter\", \"uid\": \"aa487edf-53dd-4e5a-9fe4-9c7606182cfe\", \"x\": [4.0], \"y\": [4.95]}, {\"marker\": {\"color\": \"rgba(128, 0, 128, 1.0)\", \"line\": {\"width\": 1.3}, \"opacity\": 0.8, \"size\": 12, \"symbol\": \"circle\"}, \"mode\": \"markers\", \"name\": \"Channel Islands\", \"textfont\": {\"color\": \"#4D5663\"}, \"type\": \"scatter\", \"uid\": \"43caf100-733d-4327-8451-8acc636daf91\", \"x\": [13.333333333333334], \"y\": [4.95]}, {\"marker\": {\"color\": \"rgba(219, 64, 82, 1.0)\", \"line\": {\"width\": 1.3}, \"opacity\": 0.8, \"size\": 12, \"symbol\": \"circle\"}, \"mode\": \"markers\", \"name\": \"Cyprus\", \"textfont\": {\"color\": \"#4D5663\"}, \"type\": \"scatter\", \"uid\": \"24aabaf3-77f6-4746-902d-74249c825f3e\", \"x\": [2.3333333333333335], \"y\": [4.75]}, {\"marker\": {\"color\": \"rgba(0, 128, 128, 1.0)\", \"line\": {\"width\": 1.3}, \"opacity\": 0.8, \"size\": 12, \"symbol\": \"circle\"}, \"mode\": \"markers\", \"name\": \"Denmark\", \"textfont\": {\"color\": \"#4D5663\"}, \"type\": \"scatter\", \"uid\": \"e373c9d0-08ad-41bc-bc34-a4f7419a8e6d\", \"x\": [12.0], \"y\": [4.95]}, {\"marker\": {\"color\": \"rgba(255, 255, 51, 1.0)\", \"line\": {\"width\": 1.3}, \"opacity\": 0.8, \"size\": 12, \"symbol\": \"circle\"}, \"mode\": \"markers\", \"name\": \"EIRE\", \"textfont\": {\"color\": \"#4D5663\"}, \"type\": \"scatter\", \"uid\": \"44785e00-728a-4111-b501-11c3eec2b399\", \"x\": [21.210526315789473], \"y\": [4.739473684210528]}, {\"marker\": {\"color\": \"rgba(128, 128, 0, 1.0)\", \"line\": {\"width\": 1.3}, \"opacity\": 0.8, \"size\": 12, \"symbol\": \"circle\"}, \"mode\": \"markers\", \"name\": \"Finland\", \"textfont\": {\"color\": \"#4D5663\"}, \"type\": \"scatter\", \"uid\": \"9b0323ca-a3e4-4236-99fc-40b783ec28b1\", \"x\": [6.0], \"y\": [4.95]}, {\"marker\": {\"color\": \"rgba(251, 128, 114, 1.0)\", \"line\": {\"width\": 1.3}, \"opacity\": 0.8, \"size\": 12, \"symbol\": \"circle\"}, \"mode\": \"markers\", \"name\": \"France\", \"textfont\": {\"color\": \"#4D5663\"}, \"type\": \"scatter\", \"uid\": \"a8101147-3fec-47e1-a6dd-66b497c928e5\", \"x\": [5.7272727272727275], \"y\": [4.922727272727275]}, {\"marker\": {\"color\": \"rgba(128, 177, 211, 1.0)\", \"line\": {\"width\": 1.3}, \"opacity\": 0.8, \"size\": 12, \"symbol\": \"circle\"}, \"mode\": \"markers\", \"name\": \"Germany\", \"textfont\": {\"color\": \"#4D5663\"}, \"type\": \"scatter\", \"uid\": \"2f97de3d-8901-4555-bffb-d6c8f3a72ab7\", \"x\": [6.8], \"y\": [4.89]}, {\"marker\": {\"color\": \"rgba(128, 177, 211, 0.8999999999999999)\", \"line\": {\"width\": 1.3}, \"opacity\": 0.8, \"size\": 12, \"symbol\": \"circle\"}, \"mode\": \"markers\", \"name\": \"Israel\", \"textfont\": {\"color\": \"#4D5663\"}, \"type\": \"scatter\", \"uid\": \"6dda04ae-a60a-4c5c-9239-4c1259d91a03\", \"x\": [1.0], \"y\": [4.95]}, {\"marker\": {\"color\": \"rgba(255, 153, 51, 0.8999999999999999)\", \"line\": {\"width\": 1.3}, \"opacity\": 0.8, \"size\": 12, \"symbol\": \"circle\"}, \"mode\": \"markers\", \"name\": \"Japan\", \"textfont\": {\"color\": \"#4D5663\"}, \"type\": \"scatter\", \"uid\": \"9ea0645c-7719-4c4b-93fa-3a278bce321a\", \"x\": [56.666666666666664], \"y\": [4.183333333333334]}, {\"marker\": {\"color\": \"rgba(55, 128, 191, 0.8999999999999999)\", \"line\": {\"width\": 1.3}, \"opacity\": 0.8, \"size\": 12, \"symbol\": \"circle\"}, \"mode\": \"markers\", \"name\": \"Lebanon\", \"textfont\": {\"color\": \"#4D5663\"}, \"type\": \"scatter\", \"uid\": \"348577c2-f285-4981-957c-0398e94153b3\", \"x\": [15.0], \"y\": [4.65]}, {\"marker\": {\"color\": \"rgba(50, 171, 96, 0.8999999999999999)\", \"line\": {\"width\": 1.3}, \"opacity\": 0.8, \"size\": 12, \"symbol\": \"circle\"}, \"mode\": \"markers\", \"name\": \"Netherlands\", \"textfont\": {\"color\": \"#4D5663\"}, \"type\": \"scatter\", \"uid\": \"25ab7d5e-d5de-4b09-9952-f0b18e40faa2\", \"x\": [50.0], \"y\": [4.15]}, {\"marker\": {\"color\": \"rgba(128, 0, 128, 0.8999999999999999)\", \"line\": {\"width\": 1.3}, \"opacity\": 0.8, \"size\": 12, \"symbol\": \"circle\"}, \"mode\": \"markers\", \"name\": \"Norway\", \"textfont\": {\"color\": \"#4D5663\"}, \"type\": \"scatter\", \"uid\": \"ac957c9e-d4bd-464b-b3bf-dd1054383121\", \"x\": [6.0], \"y\": [4.95]}, {\"marker\": {\"color\": \"rgba(219, 64, 82, 0.8999999999999999)\", \"line\": {\"width\": 1.3}, \"opacity\": 0.8, \"size\": 12, \"symbol\": \"circle\"}, \"mode\": \"markers\", \"name\": \"Singapore\", \"textfont\": {\"color\": \"#4D5663\"}, \"type\": \"scatter\", \"uid\": \"b7790735-74ee-4f31-80e8-47a2867a1032\", \"x\": [8.0], \"y\": [4.95]}, {\"marker\": {\"color\": \"rgba(0, 128, 128, 0.8999999999999999)\", \"line\": {\"width\": 1.3}, \"opacity\": 0.8, \"size\": 12, \"symbol\": \"circle\"}, \"mode\": \"markers\", \"name\": \"South Africa\", \"textfont\": {\"color\": \"#4D5663\"}, \"type\": \"scatter\", \"uid\": \"20805ca4-db18-4a81-8f26-222aa2fa2227\", \"x\": [4.0], \"y\": [4.95]}, {\"marker\": {\"color\": \"rgba(255, 255, 51, 0.8999999999999999)\", \"line\": {\"width\": 1.3}, \"opacity\": 0.8, \"size\": 12, \"symbol\": \"circle\"}, \"mode\": \"markers\", \"name\": \"Spain\", \"textfont\": {\"color\": \"#4D5663\"}, \"type\": \"scatter\", \"uid\": \"20e47eaa-12e3-47b8-96af-3b554c07c7e1\", \"x\": [4.75], \"y\": [4.8375]}, {\"marker\": {\"color\": \"rgba(128, 128, 0, 0.8999999999999999)\", \"line\": {\"width\": 1.3}, \"opacity\": 0.8, \"size\": 12, \"symbol\": \"circle\"}, \"mode\": \"markers\", \"name\": \"Switzerland\", \"textfont\": {\"color\": \"#4D5663\"}, \"type\": \"scatter\", \"uid\": \"07db7807-5469-433b-aa24-71ba9e8447f6\", \"x\": [17.2], \"y\": [4.79]}, {\"marker\": {\"color\": \"rgba(251, 128, 114, 0.8999999999999999)\", \"line\": {\"width\": 1.3}, \"opacity\": 0.8, \"size\": 12, \"symbol\": \"circle\"}, \"mode\": \"markers\", \"name\": \"United Kingdom\", \"textfont\": {\"color\": \"#4D5663\"}, \"type\": \"scatter\", \"uid\": \"dffb15d9-c4c1-4263-acff-dd95b59e49a4\", \"x\": [10.705432287681713], \"y\": [4.880925784238609]}],\n",
       "                        {\"legend\": {\"bgcolor\": \"#F5F6F9\", \"font\": {\"color\": \"#4D5663\"}}, \"paper_bgcolor\": \"#F5F6F9\", \"plot_bgcolor\": \"#F5F6F9\", \"title\": {\"font\": {\"color\": \"#4D5663\"}, \"text\": \"PARTY BUNTING\"}, \"xaxis\": {\"gridcolor\": \"#E1E5ED\", \"showgrid\": true, \"tickfont\": {\"color\": \"#4D5663\"}, \"title\": {\"font\": {\"color\": \"#4D5663\"}, \"text\": \"Quantity\"}, \"zerolinecolor\": \"#E1E5ED\"}, \"yaxis\": {\"gridcolor\": \"#E1E5ED\", \"showgrid\": true, \"tickfont\": {\"color\": \"#4D5663\"}, \"title\": {\"font\": {\"color\": \"#4D5663\"}, \"text\": \"UnitPrice\"}, \"zerolinecolor\": \"#E1E5ED\"}},\n",
       "                        {\"showLink\": true, \"linkText\": \"Export to plot.ly\", \"plotlyServerURL\": \"https://plot.ly\", \"responsive\": true}\n",
       "                    ).then(function(){\n",
       "                            \n",
       "var gd = document.getElementById('9fca56e5-aeae-4f09-a890-88f841ea28d2');\n",
       "var x = new MutationObserver(function (mutations, observer) {{\n",
       "        var display = window.getComputedStyle(gd).display;\n",
       "        if (!display || display === 'none') {{\n",
       "            console.log([gd, 'removed!']);\n",
       "            Plotly.purge(gd);\n",
       "            observer.disconnect();\n",
       "        }}\n",
       "}});\n",
       "\n",
       "// Listen for the removal of the full notebook cells\n",
       "var notebookContainer = gd.closest('#notebook-container');\n",
       "if (notebookContainer) {{\n",
       "    x.observe(notebookContainer, {childList: true});\n",
       "}}\n",
       "\n",
       "// Listen for the clearing of the current output cell\n",
       "var outputEl = gd.closest('.output');\n",
       "if (outputEl) {{\n",
       "    x.observe(outputEl, {childList: true});\n",
       "}}\n",
       "\n",
       "                        })\n",
       "                };\n",
       "                });\n",
       "            </script>\n",
       "        </div>"
      ]
     },
     "metadata": {},
     "output_type": "display_data"
    }
   ],
   "source": [
    "df = data.loc[data['Description'] == 'PARTY BUNTING',:]\n",
    "df = df.groupby(by='Country')[['Quantity', 'UnitPrice']].mean().reset_index()\n",
    "\n",
    "df.iplot(kind='scatter', mode='markers', x='Quantity', y='UnitPrice', categories='Country', xTitle='Quantity', yTitle='UnitPrice', title='PARTY BUNTING')"
   ]
  },
  {
   "cell_type": "markdown",
   "metadata": {},
   "source": [
    "## 4. Create a set of interactive histograms showing the distributions of quantity per invoice for the following countries: EIRE, Germany, France, and Netherlands."
   ]
  },
  {
   "cell_type": "code",
   "execution_count": 10,
   "metadata": {},
   "outputs": [
    {
     "data": {
      "application/vnd.plotly.v1+json": {
       "config": {
        "linkText": "Export to plot.ly",
        "plotlyServerURL": "https://plot.ly",
        "showLink": true
       },
       "data": [
        {
         "histfunc": "count",
         "histnorm": "",
         "marker": {
          "color": "rgba(255, 153, 51, 1.0)",
          "line": {
           "color": "#4D5663",
           "width": 1.3
          }
         },
         "name": "Quantity",
         "nbinsx": 20,
         "opacity": 0.8,
         "orientation": "v",
         "type": "histogram",
         "uid": "716f6457-5885-4d4a-8344-6067fafd803b",
         "x": [
          19,
          1,
          14,
          20,
          1,
          10,
          6,
          9,
          3,
          1,
          15,
          71,
          8,
          62,
          15,
          1,
          69,
          29,
          13,
          14,
          19,
          1,
          40,
          19,
          16,
          6,
          10,
          9,
          13,
          12,
          2,
          10,
          72,
          32,
          47,
          15,
          51,
          2,
          67,
          1,
          18,
          4,
          26,
          1,
          7,
          10,
          17,
          19,
          38,
          4,
          29,
          23,
          17,
          15,
          14,
          46,
          11,
          28,
          3,
          54,
          4,
          8,
          64,
          14,
          33,
          39,
          21,
          23,
          12,
          23,
          21,
          148,
          14,
          41,
          9,
          12,
          4,
          15,
          49,
          3,
          8,
          1,
          12,
          10,
          7,
          10,
          6,
          47,
          6,
          42,
          10,
          18,
          1,
          37,
          79,
          41,
          10,
          52,
          23,
          20,
          9,
          9,
          2,
          30,
          33,
          2,
          27,
          44,
          21,
          106,
          11,
          19,
          8,
          52,
          14,
          9,
          52,
          11,
          15,
          41,
          52,
          21,
          20,
          15,
          11,
          5,
          10,
          18,
          20,
          30,
          18,
          46,
          20,
          49,
          8,
          17,
          45,
          10,
          11,
          18,
          18,
          1,
          9,
          7,
          15,
          40,
          18,
          12,
          62,
          13,
          13,
          26,
          12,
          5,
          16,
          12,
          52,
          76,
          7,
          29,
          10,
          110,
          23,
          47,
          15,
          13,
          4,
          10,
          5,
          52,
          9,
          1,
          33,
          76,
          43,
          11,
          21,
          7,
          44,
          15,
          13,
          16,
          4,
          33,
          12,
          4,
          12,
          25,
          11,
          6,
          16,
          14,
          41,
          6,
          27,
          1,
          22,
          4,
          15,
          18,
          56,
          8,
          17,
          20,
          12,
          18,
          17,
          26,
          29,
          27,
          3,
          3,
          59,
          19,
          17,
          7,
          20,
          30,
          41,
          29,
          45,
          24,
          27,
          28,
          10,
          7,
          8,
          25,
          34,
          24,
          44,
          19,
          2,
          4,
          47,
          10,
          10,
          2,
          14,
          40,
          4,
          30,
          11,
          28,
          44,
          9,
          34,
          8,
          20,
          15,
          16,
          22,
          43,
          12,
          4,
          48,
          8,
          7,
          38,
          68,
          27,
          10,
          16,
          15,
          89,
          16,
          6,
          33,
          4,
          2,
          8,
          5,
          35,
          9,
          3,
          9,
          67,
          14,
          26,
          26,
          1,
          14,
          9,
          6,
          65,
          23,
          22,
          10,
          23,
          63,
          5,
          21,
          49,
          20,
          11,
          1,
          8,
          57,
          30,
          8,
          23,
          5,
          24,
          26,
          4,
          50,
          20,
          21,
          6,
          17,
          13,
          23,
          21,
          11,
          10,
          28,
          4,
          33,
          8,
          7,
          7,
          32,
          20,
          20,
          1,
          3,
          4,
          37,
          31,
          8,
          1,
          7,
          19,
          6,
          10,
          22,
          2,
          20,
          9,
          49,
          61,
          16,
          32,
          9,
          29,
          8,
          15,
          75,
          22,
          1,
          23,
          11,
          41,
          6,
          32,
          15,
          92,
          1,
          11,
          67,
          12,
          5,
          23,
          6,
          22,
          9,
          17,
          32,
          16,
          32,
          6,
          35,
          7,
          32,
          44,
          37,
          15,
          9,
          1,
          4,
          60,
          36,
          7,
          24,
          33,
          19,
          18,
          4,
          5,
          15,
          30,
          22,
          13,
          12,
          34,
          52,
          43,
          9,
          19,
          18,
          52,
          1,
          23,
          12,
          14,
          10,
          1,
          20,
          29,
          21,
          6,
          7,
          3,
          25,
          1,
          1,
          14,
          11,
          50,
          12,
          37,
          20,
          29,
          7,
          4,
          17,
          20,
          13,
          34,
          13,
          42,
          134,
          14,
          3,
          25,
          17,
          31,
          30,
          18,
          24,
          18,
          45,
          26,
          12,
          17,
          17,
          29,
          16,
          57,
          8,
          5,
          5,
          21,
          25,
          4,
          19,
          35,
          2,
          8,
          13,
          12,
          60,
          15,
          42,
          28,
          11,
          23,
          67,
          12,
          11,
          17,
          18,
          27,
          4,
          33,
          10,
          1,
          27,
          32,
          22,
          52,
          6,
          13,
          59,
          82,
          1,
          19,
          38,
          23,
          2,
          11,
          19,
          13,
          18,
          27,
          15,
          18,
          1,
          8,
          30,
          41,
          1,
          34,
          12,
          9,
          72,
          11,
          20,
          7,
          25,
          3,
          11,
          30,
          5,
          43,
          7,
          1,
          45,
          15,
          9,
          3,
          15,
          60,
          6,
          32,
          59,
          21,
          12,
          15,
          39,
          35,
          20,
          15,
          13,
          26,
          4,
          10,
          30,
          10,
          19,
          20,
          6,
          9,
          9,
          11,
          14,
          47,
          13,
          27,
          12,
          27,
          8,
          5,
          67,
          9,
          32,
          60,
          3,
          68,
          4,
          24,
          4,
          5,
          29,
          36,
          76,
          37,
          9,
          18,
          35,
          19,
          31,
          9,
          11,
          39,
          23,
          42,
          32,
          31,
          6,
          8,
          32,
          4,
          16,
          28,
          31,
          44,
          25,
          80,
          19,
          62,
          27,
          13,
          5,
          31,
          13,
          7,
          33,
          43,
          31,
          6,
          28,
          5,
          3,
          49,
          147,
          6,
          18,
          58,
          4,
          96,
          10,
          14,
          21,
          26,
          9,
          119,
          41,
          7,
          35,
          24,
          2,
          36,
          10,
          30,
          4,
          29,
          29,
          8,
          48,
          1,
          25,
          7,
          19,
          34,
          8,
          22,
          49,
          7,
          15,
          17,
          21,
          20,
          22,
          35,
          30,
          5,
          2,
          38,
          23,
          9,
          5,
          13,
          18,
          3,
          12,
          1,
          22,
          9,
          68,
          10,
          4,
          22,
          18,
          41,
          19,
          41,
          1,
          28,
          8,
          47,
          20,
          90,
          10,
          1,
          18,
          49,
          8,
          13,
          22,
          25,
          26,
          8,
          5,
          6,
          28,
          5,
          42,
          19,
          36,
          49,
          51,
          4,
          6,
          20,
          58,
          5,
          20,
          1,
          28,
          3,
          40,
          25,
          31,
          41,
          85,
          67,
          30,
          63,
          22,
          51,
          1,
          26,
          8,
          2,
          16,
          21,
          67,
          7,
          60,
          6,
          18,
          14,
          1,
          57,
          6,
          50,
          20,
          18,
          18,
          31,
          5,
          15,
          2,
          18,
          12,
          5,
          20,
          66,
          38,
          3,
          41,
          17,
          13,
          26,
          14,
          24,
          9,
          58,
          24,
          44,
          9,
          21,
          31,
          10,
          23,
          6,
          8,
          30,
          18,
          9,
          27,
          20,
          52,
          1,
          16,
          9,
          2,
          28,
          7,
          12,
          12,
          37,
          66,
          37,
          120,
          32,
          21,
          13,
          21,
          37,
          18,
          17,
          22,
          9,
          28,
          68,
          4,
          19,
          26,
          16,
          3,
          28,
          12,
          23,
          18,
          17,
          20,
          27,
          16,
          18,
          26,
          13,
          16,
          3,
          76,
          9,
          5,
          29,
          47,
          88,
          27,
          3,
          17,
          35,
          1,
          6,
          15,
          16,
          6,
          23,
          61,
          23,
          12,
          59,
          2,
          8,
          24,
          17,
          51,
          10,
          27,
          23,
          14,
          10,
          10,
          2,
          7,
          78,
          15,
          14,
          1,
          19,
          29,
          4,
          20,
          259,
          60,
          6,
          11,
          49,
          1,
          24,
          12,
          14,
          4,
          17,
          1,
          8,
          39,
          22,
          5,
          11,
          12,
          78,
          18,
          19,
          32,
          27,
          28,
          35,
          40,
          9,
          98,
          15,
          55,
          38,
          16,
          1,
          30,
          28,
          23,
          9,
          21,
          28,
          35,
          4,
          1,
          58,
          79,
          16,
          5,
          18,
          84,
          125,
          20,
          1,
          10,
          4,
          44,
          42,
          38,
          16,
          9,
          44,
          11,
          7,
          13,
          9,
          15,
          23,
          10,
          5,
          14,
          22,
          1,
          25,
          1,
          2,
          10,
          12,
          9,
          60,
          1,
          7,
          41,
          1,
          20,
          14,
          14,
          2,
          20,
          19,
          7,
          36,
          5,
          51,
          23,
          25,
          20,
          44,
          30,
          1,
          39,
          21,
          10,
          39,
          28,
          24,
          9,
          4,
          58,
          21,
          13,
          13,
          10,
          14,
          4,
          15,
          12,
          9,
          3,
          34,
          23,
          37,
          15,
          5,
          21,
          1,
          53,
          10,
          14,
          4,
          12,
          13,
          42,
          19,
          52,
          1,
          14,
          48,
          8,
          13,
          16,
          24,
          8,
          47,
          29,
          13,
          19,
          35,
          21,
          76,
          39,
          1,
          8,
          69,
          17,
          37,
          22,
          18,
          22,
          11,
          9,
          17,
          8,
          6,
          29,
          7,
          5,
          13,
          28,
          42,
          16,
          10,
          26,
          24,
          2,
          1,
          22,
          35,
          4,
          1,
          12,
          4,
          17,
          22,
          6,
          11,
          15,
          32,
          31,
          45,
          80,
          18,
          6,
          4,
          45,
          31,
          5,
          23,
          1,
          9,
          7,
          2,
          1,
          9,
          44,
          11,
          7,
          41,
          26,
          13,
          1,
          50,
          35,
          15,
          3,
          63,
          12,
          36,
          27,
          4,
          22,
          9,
          13,
          16,
          7,
          42,
          1,
          11,
          21,
          25,
          3,
          6,
          16,
          9,
          11,
          10,
          12,
          58,
          10,
          126,
          15,
          6,
          18,
          34,
          17,
          14,
          5,
          4,
          22,
          59,
          37,
          43,
          42,
          8,
          8,
          4,
          22,
          28,
          11,
          6,
          13,
          3,
          26,
          17,
          31,
          11,
          18,
          11,
          8,
          3,
          67,
          13,
          9,
          14,
          23,
          9,
          21,
          18,
          5,
          3,
          56,
          3,
          20,
          27,
          18,
          30,
          3,
          7,
          25,
          3,
          12,
          4,
          12,
          33,
          23,
          29,
          4,
          19,
          18,
          18,
          63,
          52,
          51,
          19,
          77,
          8,
          37,
          13,
          56,
          2,
          1,
          72,
          17,
          12,
          12,
          37,
          15
         ]
        }
       ],
       "layout": {
        "barmode": "overlay",
        "legend": {
         "bgcolor": "#F5F6F9",
         "font": {
          "color": "#4D5663"
         }
        },
        "paper_bgcolor": "#F5F6F9",
        "plot_bgcolor": "#F5F6F9",
        "title": {
         "font": {
          "color": "#4D5663"
         },
         "text": "Distribution of Quantity per Invoice"
        },
        "xaxis": {
         "gridcolor": "#E1E5ED",
         "showgrid": true,
         "tickfont": {
          "color": "#4D5663"
         },
         "title": {
          "font": {
           "color": "#4D5663"
          },
          "text": "Total Charges"
         },
         "zerolinecolor": "#E1E5ED"
        },
        "yaxis": {
         "gridcolor": "#E1E5ED",
         "showgrid": true,
         "tickfont": {
          "color": "#4D5663"
         },
         "title": {
          "font": {
           "color": "#4D5663"
          },
          "text": "Frequency"
         },
         "zerolinecolor": "#E1E5ED"
        }
       }
      },
      "text/html": [
       "<div>\n",
       "        \n",
       "        \n",
       "            <div id=\"3e681346-47f6-43b1-a1f1-f47db928a1d0\" class=\"plotly-graph-div\" style=\"height:525px; width:100%;\"></div>\n",
       "            <script type=\"text/javascript\">\n",
       "                require([\"plotly\"], function(Plotly) {\n",
       "                    window.PLOTLYENV=window.PLOTLYENV || {};\n",
       "                    window.PLOTLYENV.BASE_URL='https://plot.ly';\n",
       "                    \n",
       "                if (document.getElementById(\"3e681346-47f6-43b1-a1f1-f47db928a1d0\")) {\n",
       "                    Plotly.newPlot(\n",
       "                        '3e681346-47f6-43b1-a1f1-f47db928a1d0',\n",
       "                        [{\"histfunc\": \"count\", \"histnorm\": \"\", \"marker\": {\"color\": \"rgba(255, 153, 51, 1.0)\", \"line\": {\"color\": \"#4D5663\", \"width\": 1.3}}, \"name\": \"Quantity\", \"nbinsx\": 20, \"opacity\": 0.8, \"orientation\": \"v\", \"type\": \"histogram\", \"uid\": \"716f6457-5885-4d4a-8344-6067fafd803b\", \"x\": [19, 1, 14, 20, 1, 10, 6, 9, 3, 1, 15, 71, 8, 62, 15, 1, 69, 29, 13, 14, 19, 1, 40, 19, 16, 6, 10, 9, 13, 12, 2, 10, 72, 32, 47, 15, 51, 2, 67, 1, 18, 4, 26, 1, 7, 10, 17, 19, 38, 4, 29, 23, 17, 15, 14, 46, 11, 28, 3, 54, 4, 8, 64, 14, 33, 39, 21, 23, 12, 23, 21, 148, 14, 41, 9, 12, 4, 15, 49, 3, 8, 1, 12, 10, 7, 10, 6, 47, 6, 42, 10, 18, 1, 37, 79, 41, 10, 52, 23, 20, 9, 9, 2, 30, 33, 2, 27, 44, 21, 106, 11, 19, 8, 52, 14, 9, 52, 11, 15, 41, 52, 21, 20, 15, 11, 5, 10, 18, 20, 30, 18, 46, 20, 49, 8, 17, 45, 10, 11, 18, 18, 1, 9, 7, 15, 40, 18, 12, 62, 13, 13, 26, 12, 5, 16, 12, 52, 76, 7, 29, 10, 110, 23, 47, 15, 13, 4, 10, 5, 52, 9, 1, 33, 76, 43, 11, 21, 7, 44, 15, 13, 16, 4, 33, 12, 4, 12, 25, 11, 6, 16, 14, 41, 6, 27, 1, 22, 4, 15, 18, 56, 8, 17, 20, 12, 18, 17, 26, 29, 27, 3, 3, 59, 19, 17, 7, 20, 30, 41, 29, 45, 24, 27, 28, 10, 7, 8, 25, 34, 24, 44, 19, 2, 4, 47, 10, 10, 2, 14, 40, 4, 30, 11, 28, 44, 9, 34, 8, 20, 15, 16, 22, 43, 12, 4, 48, 8, 7, 38, 68, 27, 10, 16, 15, 89, 16, 6, 33, 4, 2, 8, 5, 35, 9, 3, 9, 67, 14, 26, 26, 1, 14, 9, 6, 65, 23, 22, 10, 23, 63, 5, 21, 49, 20, 11, 1, 8, 57, 30, 8, 23, 5, 24, 26, 4, 50, 20, 21, 6, 17, 13, 23, 21, 11, 10, 28, 4, 33, 8, 7, 7, 32, 20, 20, 1, 3, 4, 37, 31, 8, 1, 7, 19, 6, 10, 22, 2, 20, 9, 49, 61, 16, 32, 9, 29, 8, 15, 75, 22, 1, 23, 11, 41, 6, 32, 15, 92, 1, 11, 67, 12, 5, 23, 6, 22, 9, 17, 32, 16, 32, 6, 35, 7, 32, 44, 37, 15, 9, 1, 4, 60, 36, 7, 24, 33, 19, 18, 4, 5, 15, 30, 22, 13, 12, 34, 52, 43, 9, 19, 18, 52, 1, 23, 12, 14, 10, 1, 20, 29, 21, 6, 7, 3, 25, 1, 1, 14, 11, 50, 12, 37, 20, 29, 7, 4, 17, 20, 13, 34, 13, 42, 134, 14, 3, 25, 17, 31, 30, 18, 24, 18, 45, 26, 12, 17, 17, 29, 16, 57, 8, 5, 5, 21, 25, 4, 19, 35, 2, 8, 13, 12, 60, 15, 42, 28, 11, 23, 67, 12, 11, 17, 18, 27, 4, 33, 10, 1, 27, 32, 22, 52, 6, 13, 59, 82, 1, 19, 38, 23, 2, 11, 19, 13, 18, 27, 15, 18, 1, 8, 30, 41, 1, 34, 12, 9, 72, 11, 20, 7, 25, 3, 11, 30, 5, 43, 7, 1, 45, 15, 9, 3, 15, 60, 6, 32, 59, 21, 12, 15, 39, 35, 20, 15, 13, 26, 4, 10, 30, 10, 19, 20, 6, 9, 9, 11, 14, 47, 13, 27, 12, 27, 8, 5, 67, 9, 32, 60, 3, 68, 4, 24, 4, 5, 29, 36, 76, 37, 9, 18, 35, 19, 31, 9, 11, 39, 23, 42, 32, 31, 6, 8, 32, 4, 16, 28, 31, 44, 25, 80, 19, 62, 27, 13, 5, 31, 13, 7, 33, 43, 31, 6, 28, 5, 3, 49, 147, 6, 18, 58, 4, 96, 10, 14, 21, 26, 9, 119, 41, 7, 35, 24, 2, 36, 10, 30, 4, 29, 29, 8, 48, 1, 25, 7, 19, 34, 8, 22, 49, 7, 15, 17, 21, 20, 22, 35, 30, 5, 2, 38, 23, 9, 5, 13, 18, 3, 12, 1, 22, 9, 68, 10, 4, 22, 18, 41, 19, 41, 1, 28, 8, 47, 20, 90, 10, 1, 18, 49, 8, 13, 22, 25, 26, 8, 5, 6, 28, 5, 42, 19, 36, 49, 51, 4, 6, 20, 58, 5, 20, 1, 28, 3, 40, 25, 31, 41, 85, 67, 30, 63, 22, 51, 1, 26, 8, 2, 16, 21, 67, 7, 60, 6, 18, 14, 1, 57, 6, 50, 20, 18, 18, 31, 5, 15, 2, 18, 12, 5, 20, 66, 38, 3, 41, 17, 13, 26, 14, 24, 9, 58, 24, 44, 9, 21, 31, 10, 23, 6, 8, 30, 18, 9, 27, 20, 52, 1, 16, 9, 2, 28, 7, 12, 12, 37, 66, 37, 120, 32, 21, 13, 21, 37, 18, 17, 22, 9, 28, 68, 4, 19, 26, 16, 3, 28, 12, 23, 18, 17, 20, 27, 16, 18, 26, 13, 16, 3, 76, 9, 5, 29, 47, 88, 27, 3, 17, 35, 1, 6, 15, 16, 6, 23, 61, 23, 12, 59, 2, 8, 24, 17, 51, 10, 27, 23, 14, 10, 10, 2, 7, 78, 15, 14, 1, 19, 29, 4, 20, 259, 60, 6, 11, 49, 1, 24, 12, 14, 4, 17, 1, 8, 39, 22, 5, 11, 12, 78, 18, 19, 32, 27, 28, 35, 40, 9, 98, 15, 55, 38, 16, 1, 30, 28, 23, 9, 21, 28, 35, 4, 1, 58, 79, 16, 5, 18, 84, 125, 20, 1, 10, 4, 44, 42, 38, 16, 9, 44, 11, 7, 13, 9, 15, 23, 10, 5, 14, 22, 1, 25, 1, 2, 10, 12, 9, 60, 1, 7, 41, 1, 20, 14, 14, 2, 20, 19, 7, 36, 5, 51, 23, 25, 20, 44, 30, 1, 39, 21, 10, 39, 28, 24, 9, 4, 58, 21, 13, 13, 10, 14, 4, 15, 12, 9, 3, 34, 23, 37, 15, 5, 21, 1, 53, 10, 14, 4, 12, 13, 42, 19, 52, 1, 14, 48, 8, 13, 16, 24, 8, 47, 29, 13, 19, 35, 21, 76, 39, 1, 8, 69, 17, 37, 22, 18, 22, 11, 9, 17, 8, 6, 29, 7, 5, 13, 28, 42, 16, 10, 26, 24, 2, 1, 22, 35, 4, 1, 12, 4, 17, 22, 6, 11, 15, 32, 31, 45, 80, 18, 6, 4, 45, 31, 5, 23, 1, 9, 7, 2, 1, 9, 44, 11, 7, 41, 26, 13, 1, 50, 35, 15, 3, 63, 12, 36, 27, 4, 22, 9, 13, 16, 7, 42, 1, 11, 21, 25, 3, 6, 16, 9, 11, 10, 12, 58, 10, 126, 15, 6, 18, 34, 17, 14, 5, 4, 22, 59, 37, 43, 42, 8, 8, 4, 22, 28, 11, 6, 13, 3, 26, 17, 31, 11, 18, 11, 8, 3, 67, 13, 9, 14, 23, 9, 21, 18, 5, 3, 56, 3, 20, 27, 18, 30, 3, 7, 25, 3, 12, 4, 12, 33, 23, 29, 4, 19, 18, 18, 63, 52, 51, 19, 77, 8, 37, 13, 56, 2, 1, 72, 17, 12, 12, 37, 15]}],\n",
       "                        {\"barmode\": \"overlay\", \"legend\": {\"bgcolor\": \"#F5F6F9\", \"font\": {\"color\": \"#4D5663\"}}, \"paper_bgcolor\": \"#F5F6F9\", \"plot_bgcolor\": \"#F5F6F9\", \"title\": {\"font\": {\"color\": \"#4D5663\"}, \"text\": \"Distribution of Quantity per Invoice\"}, \"xaxis\": {\"gridcolor\": \"#E1E5ED\", \"showgrid\": true, \"tickfont\": {\"color\": \"#4D5663\"}, \"title\": {\"font\": {\"color\": \"#4D5663\"}, \"text\": \"Total Charges\"}, \"zerolinecolor\": \"#E1E5ED\"}, \"yaxis\": {\"gridcolor\": \"#E1E5ED\", \"showgrid\": true, \"tickfont\": {\"color\": \"#4D5663\"}, \"title\": {\"font\": {\"color\": \"#4D5663\"}, \"text\": \"Frequency\"}, \"zerolinecolor\": \"#E1E5ED\"}},\n",
       "                        {\"showLink\": true, \"linkText\": \"Export to plot.ly\", \"plotlyServerURL\": \"https://plot.ly\", \"responsive\": true}\n",
       "                    ).then(function(){\n",
       "                            \n",
       "var gd = document.getElementById('3e681346-47f6-43b1-a1f1-f47db928a1d0');\n",
       "var x = new MutationObserver(function (mutations, observer) {{\n",
       "        var display = window.getComputedStyle(gd).display;\n",
       "        if (!display || display === 'none') {{\n",
       "            console.log([gd, 'removed!']);\n",
       "            Plotly.purge(gd);\n",
       "            observer.disconnect();\n",
       "        }}\n",
       "}});\n",
       "\n",
       "// Listen for the removal of the full notebook cells\n",
       "var notebookContainer = gd.closest('#notebook-container');\n",
       "if (notebookContainer) {{\n",
       "    x.observe(notebookContainer, {childList: true});\n",
       "}}\n",
       "\n",
       "// Listen for the clearing of the current output cell\n",
       "var outputEl = gd.closest('.output');\n",
       "if (outputEl) {{\n",
       "    x.observe(outputEl, {childList: true});\n",
       "}}\n",
       "\n",
       "                        })\n",
       "                };\n",
       "                });\n",
       "            </script>\n",
       "        </div>"
      ]
     },
     "metadata": {},
     "output_type": "display_data"
    }
   ],
   "source": [
    "lst_country = ['EIRE','Germany','France','Netherlands']\n",
    "mask = data['Country'].isin(lst_country)\n",
    "\n",
    "\n",
    "df = data.loc[mask, :]\n",
    "df = df.groupby('InvoiceDate')[['Quantity']].count()\n",
    "df.iplot(kind='histogram',title='Distribution of Quantity per Invoice',\n",
    "                         xTitle='Total Charges', yTitle='Frequency', bins=20)"
   ]
  },
  {
   "cell_type": "markdown",
   "metadata": {},
   "source": [
    "## 5. Create an interactive side-by-side bar chart showing the revenue by country listed below (bars) for each of the products listed below."
   ]
  },
  {
   "cell_type": "code",
   "execution_count": 11,
   "metadata": {},
   "outputs": [],
   "source": [
    "product_list = ['JUMBO BAG RED RETROSPOT', \n",
    "                'CREAM HANGING HEART T-LIGHT HOLDER',\n",
    "                'REGENCY CAKESTAND 3 TIER']\n",
    "\n",
    "country_list = ['EIRE', 'Germany', 'France', 'Netherlands']"
   ]
  },
  {
   "cell_type": "code",
   "execution_count": 12,
   "metadata": {},
   "outputs": [
    {
     "data": {
      "application/vnd.plotly.v1+json": {
       "config": {
        "linkText": "Export to plot.ly",
        "plotlyServerURL": "https://plot.ly",
        "showLink": true
       },
       "data": [
        {
         "marker": {
          "color": "rgba(255, 153, 51, 0.6)",
          "line": {
           "color": "rgba(255, 153, 51, 1.0)",
           "width": 1
          }
         },
         "name": "Revenue",
         "orientation": "v",
         "text": "",
         "type": "bar",
         "uid": "b702b5e0-567b-4c0b-8656-d294ebab5c45",
         "x": [
          "CREAM HANGING HEART T-LIGHT HOLDER",
          "CREAM HANGING HEART T-LIGHT HOLDER",
          "CREAM HANGING HEART T-LIGHT HOLDER",
          "CREAM HANGING HEART T-LIGHT HOLDER",
          "JUMBO BAG RED RETROSPOT",
          "JUMBO BAG RED RETROSPOT",
          "JUMBO BAG RED RETROSPOT",
          "JUMBO BAG RED RETROSPOT",
          "REGENCY CAKESTAND 3 TIER",
          "REGENCY CAKESTAND 3 TIER",
          "REGENCY CAKESTAND 3 TIER",
          "REGENCY CAKESTAND 3 TIER"
         ],
         "y": [
          2740.8,
          131.75,
          35.40000000000001,
          1167,
          278.72,
          903.3699999999998,
          1072.7599999999998,
          3468,
          7388.5499999999965,
          2816.85,
          9061.949999999997,
          3166.35
         ]
        }
       ],
       "layout": {
        "legend": {
         "bgcolor": "#F5F6F9",
         "font": {
          "color": "#4D5663"
         }
        },
        "paper_bgcolor": "#F5F6F9",
        "plot_bgcolor": "#F5F6F9",
        "title": {
         "font": {
          "color": "#4D5663"
         }
        },
        "xaxis": {
         "gridcolor": "#E1E5ED",
         "showgrid": true,
         "tickfont": {
          "color": "#4D5663"
         },
         "title": {
          "font": {
           "color": "#4D5663"
          },
          "text": ""
         },
         "zerolinecolor": "#E1E5ED"
        },
        "yaxis": {
         "gridcolor": "#E1E5ED",
         "showgrid": true,
         "tickfont": {
          "color": "#4D5663"
         },
         "title": {
          "font": {
           "color": "#4D5663"
          },
          "text": ""
         },
         "zerolinecolor": "#E1E5ED"
        }
       }
      },
      "text/html": [
       "<div>\n",
       "        \n",
       "        \n",
       "            <div id=\"4112fc70-f703-460e-b144-9c430386147e\" class=\"plotly-graph-div\" style=\"height:525px; width:100%;\"></div>\n",
       "            <script type=\"text/javascript\">\n",
       "                require([\"plotly\"], function(Plotly) {\n",
       "                    window.PLOTLYENV=window.PLOTLYENV || {};\n",
       "                    window.PLOTLYENV.BASE_URL='https://plot.ly';\n",
       "                    \n",
       "                if (document.getElementById(\"4112fc70-f703-460e-b144-9c430386147e\")) {\n",
       "                    Plotly.newPlot(\n",
       "                        '4112fc70-f703-460e-b144-9c430386147e',\n",
       "                        [{\"marker\": {\"color\": \"rgba(255, 153, 51, 0.6)\", \"line\": {\"color\": \"rgba(255, 153, 51, 1.0)\", \"width\": 1}}, \"name\": \"Revenue\", \"orientation\": \"v\", \"text\": \"\", \"type\": \"bar\", \"uid\": \"b702b5e0-567b-4c0b-8656-d294ebab5c45\", \"x\": [\"CREAM HANGING HEART T-LIGHT HOLDER\", \"CREAM HANGING HEART T-LIGHT HOLDER\", \"CREAM HANGING HEART T-LIGHT HOLDER\", \"CREAM HANGING HEART T-LIGHT HOLDER\", \"JUMBO BAG RED RETROSPOT\", \"JUMBO BAG RED RETROSPOT\", \"JUMBO BAG RED RETROSPOT\", \"JUMBO BAG RED RETROSPOT\", \"REGENCY CAKESTAND 3 TIER\", \"REGENCY CAKESTAND 3 TIER\", \"REGENCY CAKESTAND 3 TIER\", \"REGENCY CAKESTAND 3 TIER\"], \"y\": [2740.8, 131.75, 35.40000000000001, 1167.0, 278.72, 903.3699999999998, 1072.7599999999998, 3468.0, 7388.5499999999965, 2816.85, 9061.949999999997, 3166.35]}],\n",
       "                        {\"legend\": {\"bgcolor\": \"#F5F6F9\", \"font\": {\"color\": \"#4D5663\"}}, \"paper_bgcolor\": \"#F5F6F9\", \"plot_bgcolor\": \"#F5F6F9\", \"title\": {\"font\": {\"color\": \"#4D5663\"}}, \"xaxis\": {\"gridcolor\": \"#E1E5ED\", \"showgrid\": true, \"tickfont\": {\"color\": \"#4D5663\"}, \"title\": {\"font\": {\"color\": \"#4D5663\"}, \"text\": \"\"}, \"zerolinecolor\": \"#E1E5ED\"}, \"yaxis\": {\"gridcolor\": \"#E1E5ED\", \"showgrid\": true, \"tickfont\": {\"color\": \"#4D5663\"}, \"title\": {\"font\": {\"color\": \"#4D5663\"}, \"text\": \"\"}, \"zerolinecolor\": \"#E1E5ED\"}},\n",
       "                        {\"showLink\": true, \"linkText\": \"Export to plot.ly\", \"plotlyServerURL\": \"https://plot.ly\", \"responsive\": true}\n",
       "                    ).then(function(){\n",
       "                            \n",
       "var gd = document.getElementById('4112fc70-f703-460e-b144-9c430386147e');\n",
       "var x = new MutationObserver(function (mutations, observer) {{\n",
       "        var display = window.getComputedStyle(gd).display;\n",
       "        if (!display || display === 'none') {{\n",
       "            console.log([gd, 'removed!']);\n",
       "            Plotly.purge(gd);\n",
       "            observer.disconnect();\n",
       "        }}\n",
       "}});\n",
       "\n",
       "// Listen for the removal of the full notebook cells\n",
       "var notebookContainer = gd.closest('#notebook-container');\n",
       "if (notebookContainer) {{\n",
       "    x.observe(notebookContainer, {childList: true});\n",
       "}}\n",
       "\n",
       "// Listen for the clearing of the current output cell\n",
       "var outputEl = gd.closest('.output');\n",
       "if (outputEl) {{\n",
       "    x.observe(outputEl, {childList: true});\n",
       "}}\n",
       "\n",
       "                        })\n",
       "                };\n",
       "                });\n",
       "            </script>\n",
       "        </div>"
      ]
     },
     "metadata": {},
     "output_type": "display_data"
    }
   ],
   "source": [
    "mask = data['Country'].isin(country_list)\n",
    "mask2 = data['Description'].isin(product_list)\n",
    "\n",
    "\n",
    "df = data.loc[mask & mask2, :]\n",
    "df = df[['Description', 'Revenue', 'Country']]\n",
    "df = df.groupby(by=['Description','Country']).sum().reset_index()\n",
    "df.iplot(kind='bar', x='Description', y='Revenue')"
   ]
  },
  {
   "cell_type": "markdown",
   "metadata": {},
   "source": [
    "## 6. Create an interactive line chart showing quantity sold by day for the United Kingdom. Add drop-down boxes for Year and Month that allow you to filter the date range that appears in the chart."
   ]
  },
  {
   "cell_type": "code",
   "execution_count": 13,
   "metadata": {},
   "outputs": [],
   "source": [
    "data['Year'] = pd.DatetimeIndex(data['InvoiceDate']).year\n",
    "data['Month'] = pd.DatetimeIndex(data['InvoiceDate']).month\n",
    "data['Day'] = pd.DatetimeIndex(data['InvoiceDate']).day\n",
    "uk = data[data['Country']=='United Kingdom']"
   ]
  },
  {
   "cell_type": "code",
   "execution_count": 14,
   "metadata": {
    "code_folding": []
   },
   "outputs": [
    {
     "data": {
      "application/vnd.jupyter.widget-view+json": {
       "model_id": "f0fc892fef6948acaedd42a62b3444ed",
       "version_major": 2,
       "version_minor": 0
      },
      "text/plain": [
       "interactive(children=(Dropdown(description='Year', options=(2010, 2011), value=2010), Dropdown(description='Mo…"
      ]
     },
     "metadata": {},
     "output_type": "display_data"
    }
   ],
   "source": [
    "@interact(Year=list(uk['Year'].unique()), \n",
    "          Month=list(uk['Month'].unique())\n",
    "         )\n",
    "def plot(Year, Month):\n",
    "    \n",
    "    data = uk.loc[(uk['Year']==Year) & \n",
    "                  (uk['Month']==Month)]\n",
    "    data = data.groupby(by='Day').sum().reset_index()\n",
    "    \n",
    "    data.iplot(kind = 'line', x='Day', y='Quantity', title='Quantity Sold By Day',\n",
    "                  xTitle='Day', yTitle='Quantity')"
   ]
  },
  {
   "cell_type": "markdown",
   "metadata": {},
   "source": [
    "## 7. Create an interactive scatter plot that plots number of invoices (x-axis) vs. number of customers (y-axis) and the plot points represent individual products. Add two sliders that control the x and y axis ranges."
   ]
  },
  {
   "cell_type": "code",
   "execution_count": 15,
   "metadata": {},
   "outputs": [],
   "source": [
    "agg_func = {'InvoiceNo':'nunique',\n",
    "            'Quantity':'sum',\n",
    "            'UnitPrice':'mean',\n",
    "            'Revenue':'sum',\n",
    "            'CustomerID':'nunique'}\n",
    "\n",
    "products = uk.groupby('Description').agg(agg_func)"
   ]
  },
  {
   "cell_type": "code",
   "execution_count": 16,
   "metadata": {},
   "outputs": [
    {
     "data": {
      "application/vnd.jupyter.widget-view+json": {
       "model_id": "f823cf1f0e5e4a308ad0eefda7e643f0",
       "version_major": 2,
       "version_minor": 0
      },
      "text/plain": [
       "interactive(children=(IntSlider(value=0, description='n_invoices'), IntSlider(value=0, description='n_customer…"
      ]
     },
     "metadata": {},
     "output_type": "display_data"
    }
   ],
   "source": [
    "my_slider = widgets.IntSlider()\n",
    "my_slider2 = widgets.IntSlider()\n",
    "\n",
    "@interact(n_invoices = my_slider, n_customers = my_slider2)\n",
    "def plot(n_invoices, n_customers):\n",
    "    products.iplot(kind='scatter', x='InvoiceNo', y='CustomerID')\n"
   ]
  },
  {
   "cell_type": "markdown",
   "metadata": {},
   "source": [
    "## 8. Creat an interactive bar chart that shows revenue by product description. Add a text field widget that filters the results to show the product that contain the text entered in their description."
   ]
  },
  {
   "cell_type": "code",
   "execution_count": 17,
   "metadata": {},
   "outputs": [
    {
     "data": {
      "application/vnd.jupyter.widget-view+json": {
       "model_id": "e3c36a22b6934fad948267cf1a9580ad",
       "version_major": 2,
       "version_minor": 0
      },
      "text/plain": [
       "interactive(children=(Text(value='', description='Description'), Output()), _dom_classes=('widget-interact',))"
      ]
     },
     "metadata": {},
     "output_type": "display_data"
    }
   ],
   "source": [
    "df = data.groupby(by='Description')[['Description','Revenue']].sum().reset_index()\n",
    "\n",
    "\n",
    "@interact(Description='')\n",
    "\n",
    "def chart(Description):\n",
    "\n",
    "    data = df.loc[df['Description'].str.contains(Description)]\n",
    "    data = data.groupby(by='Description')[['Description','Revenue']].sum().reset_index()\n",
    "    \n",
    "    data.iplot(kind='bar', x='Description', y='Revenue', xTitle='Product', yTitle='Revenue')"
   ]
  },
  {
   "cell_type": "code",
   "execution_count": null,
   "metadata": {},
   "outputs": [],
   "source": []
  }
 ],
 "metadata": {
  "kernelspec": {
   "display_name": "Python 3",
   "language": "python",
   "name": "python3"
  },
  "language_info": {
   "codemirror_mode": {
    "name": "ipython",
    "version": 3
   },
   "file_extension": ".py",
   "mimetype": "text/x-python",
   "name": "python",
   "nbconvert_exporter": "python",
   "pygments_lexer": "ipython3",
   "version": "3.7.4"
  },
  "toc": {
   "base_numbering": 1,
   "nav_menu": {},
   "number_sections": true,
   "sideBar": true,
   "skip_h1_title": false,
   "title_cell": "Table of Contents",
   "title_sidebar": "Contents",
   "toc_cell": false,
   "toc_position": {},
   "toc_section_display": true,
   "toc_window_display": false
  },
  "varInspector": {
   "cols": {
    "lenName": 16,
    "lenType": 16,
    "lenVar": 40
   },
   "kernels_config": {
    "python": {
     "delete_cmd_postfix": "",
     "delete_cmd_prefix": "del ",
     "library": "var_list.py",
     "varRefreshCmd": "print(var_dic_list())"
    },
    "r": {
     "delete_cmd_postfix": ") ",
     "delete_cmd_prefix": "rm(",
     "library": "var_list.r",
     "varRefreshCmd": "cat(var_dic_list()) "
    }
   },
   "types_to_exclude": [
    "module",
    "function",
    "builtin_function_or_method",
    "instance",
    "_Feature"
   ],
   "window_display": false
  }
 },
 "nbformat": 4,
 "nbformat_minor": 2
}
