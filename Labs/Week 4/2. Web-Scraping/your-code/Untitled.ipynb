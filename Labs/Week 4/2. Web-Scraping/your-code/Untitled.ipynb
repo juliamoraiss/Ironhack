{
 "cells": [
  {
   "cell_type": "code",
   "execution_count": 28,
   "metadata": {},
   "outputs": [],
   "source": [
    "import requests\n",
    "from bs4 import BeautifulSoup\n",
    "import pandas as pd"
   ]
  },
  {
   "cell_type": "code",
   "execution_count": 7,
   "metadata": {},
   "outputs": [],
   "source": [
    "url = 'https://api.twitch.tv/kraken/games/top'"
   ]
  },
  {
   "cell_type": "code",
   "execution_count": 8,
   "metadata": {},
   "outputs": [],
   "source": [
    "headers = {'Client-ID':'b92ooo00lnb3zr9aj4nsjvpri0aou3', 'Accept':'application/vnd.twitchtv.v5+json'}"
   ]
  },
  {
   "cell_type": "code",
   "execution_count": 21,
   "metadata": {},
   "outputs": [],
   "source": [
    "response = requests.get(url, headers=headers)"
   ]
  },
  {
   "cell_type": "code",
   "execution_count": 26,
   "metadata": {},
   "outputs": [],
   "source": [
    "json = response.json()"
   ]
  },
  {
   "cell_type": "code",
   "execution_count": 37,
   "metadata": {},
   "outputs": [
    {
     "data": {
      "text/plain": [
       "2801"
      ]
     },
     "execution_count": 37,
     "metadata": {},
     "output_type": "execute_result"
    }
   ],
   "source": [
    "json['_total']"
   ]
  },
  {
   "cell_type": "code",
   "execution_count": 38,
   "metadata": {},
   "outputs": [
    {
     "data": {
      "text/plain": [
       "{'_total': 2801,\n",
       " 'top': [{'game': {'name': 'Call of Duty: Modern Warfare',\n",
       "    '_id': 512710,\n",
       "    'giantbomb_id': 73517,\n",
       "    'box': {'large': 'https://static-cdn.jtvnw.net/ttv-boxart/./Call%20of%20Duty:%20Modern%20Warfare-272x380.jpg',\n",
       "     'medium': 'https://static-cdn.jtvnw.net/ttv-boxart/./Call%20of%20Duty:%20Modern%20Warfare-136x190.jpg',\n",
       "     'small': 'https://static-cdn.jtvnw.net/ttv-boxart/./Call%20of%20Duty:%20Modern%20Warfare-52x72.jpg',\n",
       "     'template': 'https://static-cdn.jtvnw.net/ttv-boxart/./Call%20of%20Duty:%20Modern%20Warfare-{width}x{height}.jpg'},\n",
       "    'logo': {'large': 'https://static-cdn.jtvnw.net/ttv-logoart/./Call%20of%20Duty:%20Modern%20Warfare-240x144.jpg',\n",
       "     'medium': 'https://static-cdn.jtvnw.net/ttv-logoart/./Call%20of%20Duty:%20Modern%20Warfare-120x72.jpg',\n",
       "     'small': 'https://static-cdn.jtvnw.net/ttv-logoart/./Call%20of%20Duty:%20Modern%20Warfare-60x36.jpg',\n",
       "     'template': 'https://static-cdn.jtvnw.net/ttv-logoart/./Call%20of%20Duty:%20Modern%20Warfare-{width}x{height}.jpg'},\n",
       "    'localized_name': 'Call of Duty: Modern Warfare',\n",
       "    'locale': 'en-us'},\n",
       "   'viewers': 351513,\n",
       "   'channels': 11878},\n",
       "  {'game': {'name': 'League of Legends',\n",
       "    '_id': 21779,\n",
       "    'giantbomb_id': 24024,\n",
       "    'box': {'large': 'https://static-cdn.jtvnw.net/ttv-boxart/League%20of%20Legends-272x380.jpg',\n",
       "     'medium': 'https://static-cdn.jtvnw.net/ttv-boxart/League%20of%20Legends-136x190.jpg',\n",
       "     'small': 'https://static-cdn.jtvnw.net/ttv-boxart/League%20of%20Legends-52x72.jpg',\n",
       "     'template': 'https://static-cdn.jtvnw.net/ttv-boxart/League%20of%20Legends-{width}x{height}.jpg'},\n",
       "    'logo': {'large': 'https://static-cdn.jtvnw.net/ttv-logoart/League%20of%20Legends-240x144.jpg',\n",
       "     'medium': 'https://static-cdn.jtvnw.net/ttv-logoart/League%20of%20Legends-120x72.jpg',\n",
       "     'small': 'https://static-cdn.jtvnw.net/ttv-logoart/League%20of%20Legends-60x36.jpg',\n",
       "     'template': 'https://static-cdn.jtvnw.net/ttv-logoart/League%20of%20Legends-{width}x{height}.jpg'},\n",
       "    'localized_name': 'League of Legends',\n",
       "    'locale': 'en-us'},\n",
       "   'viewers': 248856,\n",
       "   'channels': 6059},\n",
       "  {'game': {'name': 'Just Chatting',\n",
       "    '_id': 509658,\n",
       "    'giantbomb_id': 0,\n",
       "    'box': {'large': 'https://static-cdn.jtvnw.net/ttv-boxart/Just%20Chatting-272x380.jpg',\n",
       "     'medium': 'https://static-cdn.jtvnw.net/ttv-boxart/Just%20Chatting-136x190.jpg',\n",
       "     'small': 'https://static-cdn.jtvnw.net/ttv-boxart/Just%20Chatting-52x72.jpg',\n",
       "     'template': 'https://static-cdn.jtvnw.net/ttv-boxart/Just%20Chatting-{width}x{height}.jpg'},\n",
       "    'logo': {'large': 'https://static-cdn.jtvnw.net/ttv-logoart/Just%20Chatting-240x144.jpg',\n",
       "     'medium': 'https://static-cdn.jtvnw.net/ttv-logoart/Just%20Chatting-120x72.jpg',\n",
       "     'small': 'https://static-cdn.jtvnw.net/ttv-logoart/Just%20Chatting-60x36.jpg',\n",
       "     'template': 'https://static-cdn.jtvnw.net/ttv-logoart/Just%20Chatting-{width}x{height}.jpg'},\n",
       "    'localized_name': 'Just Chatting',\n",
       "    'locale': 'en-us'},\n",
       "   'viewers': 218479,\n",
       "   'channels': 3657},\n",
       "  {'game': {'name': 'Animal Crossing: New Horizons',\n",
       "    '_id': 509538,\n",
       "    'giantbomb_id': 70241,\n",
       "    'box': {'large': 'https://static-cdn.jtvnw.net/ttv-boxart/./Animal%20Crossing:%20New%20Horizons-272x380.jpg',\n",
       "     'medium': 'https://static-cdn.jtvnw.net/ttv-boxart/./Animal%20Crossing:%20New%20Horizons-136x190.jpg',\n",
       "     'small': 'https://static-cdn.jtvnw.net/ttv-boxart/./Animal%20Crossing:%20New%20Horizons-52x72.jpg',\n",
       "     'template': 'https://static-cdn.jtvnw.net/ttv-boxart/./Animal%20Crossing:%20New%20Horizons-{width}x{height}.jpg'},\n",
       "    'logo': {'large': 'https://static-cdn.jtvnw.net/ttv-logoart/./Animal%20Crossing:%20New%20Horizons-240x144.jpg',\n",
       "     'medium': 'https://static-cdn.jtvnw.net/ttv-logoart/./Animal%20Crossing:%20New%20Horizons-120x72.jpg',\n",
       "     'small': 'https://static-cdn.jtvnw.net/ttv-logoart/./Animal%20Crossing:%20New%20Horizons-60x36.jpg',\n",
       "     'template': 'https://static-cdn.jtvnw.net/ttv-logoart/./Animal%20Crossing:%20New%20Horizons-{width}x{height}.jpg'},\n",
       "    'localized_name': 'Animal Crossing: New Horizons',\n",
       "    'locale': 'en-us'},\n",
       "   'viewers': 216318,\n",
       "   'channels': 3753},\n",
       "  {'game': {'name': 'Counter-Strike: Global Offensive',\n",
       "    '_id': 32399,\n",
       "    'giantbomb_id': 36113,\n",
       "    'box': {'large': 'https://static-cdn.jtvnw.net/ttv-boxart/./Counter-Strike:%20Global%20Offensive-272x380.jpg',\n",
       "     'medium': 'https://static-cdn.jtvnw.net/ttv-boxart/./Counter-Strike:%20Global%20Offensive-136x190.jpg',\n",
       "     'small': 'https://static-cdn.jtvnw.net/ttv-boxart/./Counter-Strike:%20Global%20Offensive-52x72.jpg',\n",
       "     'template': 'https://static-cdn.jtvnw.net/ttv-boxart/./Counter-Strike:%20Global%20Offensive-{width}x{height}.jpg'},\n",
       "    'logo': {'large': 'https://static-cdn.jtvnw.net/ttv-logoart/./Counter-Strike:%20Global%20Offensive-240x144.jpg',\n",
       "     'medium': 'https://static-cdn.jtvnw.net/ttv-logoart/./Counter-Strike:%20Global%20Offensive-120x72.jpg',\n",
       "     'small': 'https://static-cdn.jtvnw.net/ttv-logoart/./Counter-Strike:%20Global%20Offensive-60x36.jpg',\n",
       "     'template': 'https://static-cdn.jtvnw.net/ttv-logoart/./Counter-Strike:%20Global%20Offensive-{width}x{height}.jpg'},\n",
       "    'localized_name': 'Counter-Strike: Global Offensive',\n",
       "    'locale': 'en-us'},\n",
       "   'viewers': 174071,\n",
       "   'channels': 4061},\n",
       "  {'game': {'name': 'Doom Eternal',\n",
       "    '_id': 506442,\n",
       "    'giantbomb_id': 68917,\n",
       "    'box': {'large': 'https://static-cdn.jtvnw.net/ttv-boxart/Doom%20Eternal-272x380.jpg',\n",
       "     'medium': 'https://static-cdn.jtvnw.net/ttv-boxart/Doom%20Eternal-136x190.jpg',\n",
       "     'small': 'https://static-cdn.jtvnw.net/ttv-boxart/Doom%20Eternal-52x72.jpg',\n",
       "     'template': 'https://static-cdn.jtvnw.net/ttv-boxart/Doom%20Eternal-{width}x{height}.jpg'},\n",
       "    'logo': {'large': 'https://static-cdn.jtvnw.net/ttv-logoart/Doom%20Eternal-240x144.jpg',\n",
       "     'medium': 'https://static-cdn.jtvnw.net/ttv-logoart/Doom%20Eternal-120x72.jpg',\n",
       "     'small': 'https://static-cdn.jtvnw.net/ttv-logoart/Doom%20Eternal-60x36.jpg',\n",
       "     'template': 'https://static-cdn.jtvnw.net/ttv-logoart/Doom%20Eternal-{width}x{height}.jpg'},\n",
       "    'localized_name': 'Doom Eternal',\n",
       "    'locale': 'en-us'},\n",
       "   'viewers': 141924,\n",
       "   'channels': 4176},\n",
       "  {'game': {'name': 'Grand Theft Auto V',\n",
       "    '_id': 32982,\n",
       "    'giantbomb_id': 36765,\n",
       "    'box': {'large': 'https://static-cdn.jtvnw.net/ttv-boxart/Grand%20Theft%20Auto%20V-272x380.jpg',\n",
       "     'medium': 'https://static-cdn.jtvnw.net/ttv-boxart/Grand%20Theft%20Auto%20V-136x190.jpg',\n",
       "     'small': 'https://static-cdn.jtvnw.net/ttv-boxart/Grand%20Theft%20Auto%20V-52x72.jpg',\n",
       "     'template': 'https://static-cdn.jtvnw.net/ttv-boxart/Grand%20Theft%20Auto%20V-{width}x{height}.jpg'},\n",
       "    'logo': {'large': 'https://static-cdn.jtvnw.net/ttv-logoart/Grand%20Theft%20Auto%20V-240x144.jpg',\n",
       "     'medium': 'https://static-cdn.jtvnw.net/ttv-logoart/Grand%20Theft%20Auto%20V-120x72.jpg',\n",
       "     'small': 'https://static-cdn.jtvnw.net/ttv-logoart/Grand%20Theft%20Auto%20V-60x36.jpg',\n",
       "     'template': 'https://static-cdn.jtvnw.net/ttv-logoart/Grand%20Theft%20Auto%20V-{width}x{height}.jpg'},\n",
       "    'localized_name': 'Grand Theft Auto V',\n",
       "    'locale': 'en-us'},\n",
       "   'viewers': 122531,\n",
       "   'channels': 2577},\n",
       "  {'game': {'name': 'Fortnite',\n",
       "    '_id': 33214,\n",
       "    'giantbomb_id': 37030,\n",
       "    'box': {'large': 'https://static-cdn.jtvnw.net/ttv-boxart/Fortnite-272x380.jpg',\n",
       "     'medium': 'https://static-cdn.jtvnw.net/ttv-boxart/Fortnite-136x190.jpg',\n",
       "     'small': 'https://static-cdn.jtvnw.net/ttv-boxart/Fortnite-52x72.jpg',\n",
       "     'template': 'https://static-cdn.jtvnw.net/ttv-boxart/Fortnite-{width}x{height}.jpg'},\n",
       "    'logo': {'large': 'https://static-cdn.jtvnw.net/ttv-logoart/Fortnite-240x144.jpg',\n",
       "     'medium': 'https://static-cdn.jtvnw.net/ttv-logoart/Fortnite-120x72.jpg',\n",
       "     'small': 'https://static-cdn.jtvnw.net/ttv-logoart/Fortnite-60x36.jpg',\n",
       "     'template': 'https://static-cdn.jtvnw.net/ttv-logoart/Fortnite-{width}x{height}.jpg'},\n",
       "    'localized_name': 'Fortnite',\n",
       "    'locale': 'en-us'},\n",
       "   'viewers': 108486,\n",
       "   'channels': 11165},\n",
       "  {'game': {'name': 'Dota 2',\n",
       "    '_id': 29595,\n",
       "    'giantbomb_id': 32887,\n",
       "    'box': {'large': 'https://static-cdn.jtvnw.net/ttv-boxart/Dota%202-272x380.jpg',\n",
       "     'medium': 'https://static-cdn.jtvnw.net/ttv-boxart/Dota%202-136x190.jpg',\n",
       "     'small': 'https://static-cdn.jtvnw.net/ttv-boxart/Dota%202-52x72.jpg',\n",
       "     'template': 'https://static-cdn.jtvnw.net/ttv-boxart/Dota%202-{width}x{height}.jpg'},\n",
       "    'logo': {'large': 'https://static-cdn.jtvnw.net/ttv-logoart/Dota%202-240x144.jpg',\n",
       "     'medium': 'https://static-cdn.jtvnw.net/ttv-logoart/Dota%202-120x72.jpg',\n",
       "     'small': 'https://static-cdn.jtvnw.net/ttv-logoart/Dota%202-60x36.jpg',\n",
       "     'template': 'https://static-cdn.jtvnw.net/ttv-logoart/Dota%202-{width}x{height}.jpg'},\n",
       "    'localized_name': 'Dota 2',\n",
       "    'locale': 'en-us'},\n",
       "   'viewers': 100669,\n",
       "   'channels': 1192},\n",
       "  {'game': {'name': 'FIFA 20',\n",
       "    '_id': 512804,\n",
       "    'giantbomb_id': 73601,\n",
       "    'box': {'large': 'https://static-cdn.jtvnw.net/ttv-boxart/FIFA%2020-272x380.jpg',\n",
       "     'medium': 'https://static-cdn.jtvnw.net/ttv-boxart/FIFA%2020-136x190.jpg',\n",
       "     'small': 'https://static-cdn.jtvnw.net/ttv-boxart/FIFA%2020-52x72.jpg',\n",
       "     'template': 'https://static-cdn.jtvnw.net/ttv-boxart/FIFA%2020-{width}x{height}.jpg'},\n",
       "    'logo': {'large': 'https://static-cdn.jtvnw.net/ttv-logoart/FIFA%2020-240x144.jpg',\n",
       "     'medium': 'https://static-cdn.jtvnw.net/ttv-logoart/FIFA%2020-120x72.jpg',\n",
       "     'small': 'https://static-cdn.jtvnw.net/ttv-logoart/FIFA%2020-60x36.jpg',\n",
       "     'template': 'https://static-cdn.jtvnw.net/ttv-logoart/FIFA%2020-{width}x{height}.jpg'},\n",
       "    'localized_name': 'FIFA 20',\n",
       "    'locale': 'en-us'},\n",
       "   'viewers': 52105,\n",
       "   'channels': 1459}]}"
      ]
     },
     "execution_count": 38,
     "metadata": {},
     "output_type": "execute_result"
    }
   ],
   "source": [
    "json"
   ]
  },
  {
   "cell_type": "code",
   "execution_count": null,
   "metadata": {},
   "outputs": [],
   "source": []
  }
 ],
 "metadata": {
  "kernelspec": {
   "display_name": "Python 3",
   "language": "python",
   "name": "python3"
  },
  "language_info": {
   "codemirror_mode": {
    "name": "ipython",
    "version": 3
   },
   "file_extension": ".py",
   "mimetype": "text/x-python",
   "name": "python",
   "nbconvert_exporter": "python",
   "pygments_lexer": "ipython3",
   "version": "3.7.4"
  },
  "toc": {
   "base_numbering": 1,
   "nav_menu": {},
   "number_sections": true,
   "sideBar": true,
   "skip_h1_title": false,
   "title_cell": "Table of Contents",
   "title_sidebar": "Contents",
   "toc_cell": false,
   "toc_position": {},
   "toc_section_display": true,
   "toc_window_display": false
  },
  "varInspector": {
   "cols": {
    "lenName": 16,
    "lenType": 16,
    "lenVar": 40
   },
   "kernels_config": {
    "python": {
     "delete_cmd_postfix": "",
     "delete_cmd_prefix": "del ",
     "library": "var_list.py",
     "varRefreshCmd": "print(var_dic_list())"
    },
    "r": {
     "delete_cmd_postfix": ") ",
     "delete_cmd_prefix": "rm(",
     "library": "var_list.r",
     "varRefreshCmd": "cat(var_dic_list()) "
    }
   },
   "types_to_exclude": [
    "module",
    "function",
    "builtin_function_or_method",
    "instance",
    "_Feature"
   ],
   "window_display": false
  }
 },
 "nbformat": 4,
 "nbformat_minor": 2
}
